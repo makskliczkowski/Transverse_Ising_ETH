{
 "cells": [
  {
   "cell_type": "code",
   "execution_count": 300,
   "id": "c23411ad-4bdf-4f97-9b3e-0df42a06c505",
   "metadata": {},
   "outputs": [],
   "source": [
    "import matplotlib.pyplot as plt\n",
    "import matplotlib\n",
    "import numpy as np\n",
    "import itertools\n",
    "import os\n",
    "import seaborn as sns\n",
    "import pandas as pd\n",
    "import math\n",
    "import random\n",
    "import imageio\n",
    "import scipy.stats as stats\n",
    "import warnings\n",
    "warnings.filterwarnings('ignore')\n",
    "%matplotlib inline\n",
    "from scipy.optimize import curve_fit\n",
    "from joblib import Parallel, delayed\n",
    "#plt.style.use('science')\n",
    "\n",
    "# get all the colors\n",
    "import matplotlib.colors as mcolors"
   ]
  },
  {
   "cell_type": "markdown",
   "id": "39babdcd-ad96-450b-abe0-41190ca85bf0",
   "metadata": {},
   "source": [
    "# MODELS"
   ]
  },
  {
   "cell_type": "code",
   "execution_count": 217,
   "id": "2744a9bb-1130-4b0f-a9d2-8f85c0b3dc1b",
   "metadata": {},
   "outputs": [
    {
     "name": "stdout",
     "output_type": "stream",
     "text": [
      "C:\\Users\\maxgr\\.matplotlib\n"
     ]
    }
   ],
   "source": [
    "boundary_conditions = {0 : \"PBC\", 1:\"OBC\"}\n",
    "print(matplotlib.get_configdir())"
   ]
  },
  {
   "cell_type": "code",
   "execution_count": 228,
   "id": "86c3e1ad-c589-4928-a43e-d651b50741b3",
   "metadata": {},
   "outputs": [],
   "source": [
    "class IsingDisorder:\n",
    "    N = 1\n",
    "    M = 1\n",
    "    def __init__(self, L, J, J0, g, g0, h, w, _BC):\n",
    "        self.L = L\n",
    "        self.J = J\n",
    "        self.J0 = J0\n",
    "        self.g=g\n",
    "        self.g0=g0\n",
    "        self.h=h\n",
    "        self.w =w\n",
    "        self.BC=_BC\n",
    "        self.directory = \"results\" + kPSep\n",
    "        self.N = math.pow(2,L)\n",
    "        \n",
    "    def getInfo(self):\n",
    "        return f'L={self.L},J0={self.J0:.2f},g={self.g:.2f},g0={self.g0:.2f},h={self.h:.2f},w={self.w:.2f}' \n"
   ]
  },
  {
   "cell_type": "code",
   "execution_count": 204,
   "id": "fb2dfa0a-8338-4b90-b662-c749f3a82a2e",
   "metadata": {},
   "outputs": [
    {
     "data": {
      "text/plain": [
       "'L=12,J0=0.00,g=0.80,g0=0.00,h=0.80,w=0.10'"
      ]
     },
     "execution_count": 204,
     "metadata": {},
     "output_type": "execute_result"
    }
   ],
   "source": [
    "a=IsingDisorder(12,1,0,0.8,0,0.8,0.1,0)\n",
    "a.getInfo()"
   ]
  },
  {
   "cell_type": "markdown",
   "id": "df5c3491-b676-411a-9a5f-492d0eb23c22",
   "metadata": {},
   "source": []
  },
  {
   "cell_type": "code",
   "execution_count": 43,
   "id": "b92c6b91-6c88-4724-9267-56391f765f93",
   "metadata": {},
   "outputs": [],
   "source": [
    "markers = itertools.cycle(['o','s','v', '+'])\n",
    "colors_ls = list(mcolors.TABLEAU_COLORS)[:30]\n",
    "colors = itertools.cycle(sns.color_palette()[:3])\n",
    "TWOPI = math.pi * 2\n",
    "kPSep = os.sep\n",
    "\n",
    "disorder_pbc = f\"..{kPSep}results{kPSep}disorder{kPSep}PBC{kPSep}\"\n",
    "symm_pbc = f\"C:{kPSep}Users{kPSep}maxgr{kPSep}Desktop{kPSep}Wyniken{kPSep}results2_2{kPSep}symmetries{kPSep}PBC{kPSep}\"\n"
   ]
  },
  {
   "cell_type": "code",
   "execution_count": 189,
   "id": "4c4bdb78-e53e-47fc-b7ca-757b769b5e08",
   "metadata": {},
   "outputs": [
    {
     "data": {
      "text/plain": [
       "(array([0.001 , 0.0019, 0.0028, 0.0037, 0.0046, 0.0055, 0.0064, 0.0073,\n",
       "        0.0082, 0.0091, 0.01  , 0.01  , 0.03  , 0.05  , 0.07  , 0.09  ,\n",
       "        0.11  , 0.13  , 0.15  , 0.17  , 0.19  , 0.21  , 0.23  , 0.25  ,\n",
       "        0.27  , 0.29  , 0.31  , 0.33  , 0.35  , 0.37  , 0.39  ]),\n",
       " [1.15,\n",
       "  1.17,\n",
       "  1.19,\n",
       "  1.21,\n",
       "  1.23,\n",
       "  1.25,\n",
       "  1.27,\n",
       "  1.29,\n",
       "  1.3099999999999998,\n",
       "  1.3299999999999998,\n",
       "  1.3499999999999999,\n",
       "  1.4,\n",
       "  1.42,\n",
       "  1.45,\n",
       "  1.47,\n",
       "  1.5,\n",
       "  1.55,\n",
       "  1.57])"
      ]
     },
     "execution_count": 189,
     "metadata": {},
     "output_type": "execute_result"
    }
   ],
   "source": [
    "h=1.15\n",
    "hstep = 0.02\n",
    "\n",
    "hvalues = [h+i*hstep for i in range(3)]#+[1.4,1.42,1.45,1.47,1.5,1.55,1.57]\n",
    "# perturbations\n",
    "pert_vec = np.linspace(1e-3, 1e-2, 11);\n",
    "pert_vec = np.append(pert_vec,np.linspace(1e-2, 3.9e-1, 20));\n",
    "pert_vec,hvalues"
   ]
  },
  {
   "cell_type": "markdown",
   "id": "1720a31a-ef2a-4ab7-8fe4-063f9895afa8",
   "metadata": {
    "tags": []
   },
   "source": [
    "----------------------\n",
    "# String separators and helper functions"
   ]
  },
  {
   "cell_type": "markdown",
   "id": "37a7a74b-8340-450c-b36d-5e3b0d5f8cb5",
   "metadata": {},
   "source": [
    "### Concatenate list to a string given a separator\n",
    "--------------"
   ]
  },
  {
   "cell_type": "code",
   "execution_count": 4,
   "id": "13f0cab0-af8c-44ea-94f6-18d0c85a69a2",
   "metadata": {},
   "outputs": [],
   "source": [
    "# Function to convert  \n",
    "def listToString(s, separator = \",\"): \n",
    "    # initialize an empty string\n",
    "    str1 = \"\"   \n",
    "    # traverse in the string  \n",
    "    for ele in s: \n",
    "        if isinstance(ele, (float,int)):\n",
    "            str1 += \"{:.3f}\".format(ele) +separator \n",
    "        else:\n",
    "            str1 += str(ele) +separator  \n",
    "    \n",
    "    # return string  \n",
    "    return str1[:-1] "
   ]
  },
  {
   "cell_type": "markdown",
   "id": "dbf76e4f-541b-46ed-a946-c82876350bb5",
   "metadata": {},
   "source": [
    "### Creating a folder given a directory\n",
    "-----------"
   ]
  },
  {
   "cell_type": "code",
   "execution_count": 5,
   "id": "580bc86e-7e1f-44cd-b1cf-ba3458769ef5",
   "metadata": {},
   "outputs": [],
   "source": [
    "def createFolder(directories, silent = False):\n",
    "    for folder in directories:\n",
    "        try:\n",
    "            if not os.path.isdir(folder):\n",
    "                os.makedirs(folder)\n",
    "                if not silent:\n",
    "                    print(\"Created a directory : \", folder)\n",
    "        except OSError:\n",
    "            print(\"Creation of the directory %s failed\" % folder)      \n",
    "# Guard against race condition\n",
    "        except OSError as exc: \n",
    "            if exc.errno != errno.EEXIST:\n",
    "                raise"
   ]
  },
  {
   "cell_type": "markdown",
   "id": "3ae3d2a2-7b23-4dfb-9e3c-a4e1d5303909",
   "metadata": {},
   "source": [
    "### Reading random number from a folder given a condition\n",
    "--------------"
   ]
  },
  {
   "cell_type": "code",
   "execution_count": 6,
   "id": "20937d58-6772-48ca-b22e-948426d795c9",
   "metadata": {},
   "outputs": [],
   "source": [
    "dat = lambda x : x.endswith('.dat')\n",
    "def readRandomFile(folder, cond, withoutFolder = False):\n",
    "    choice = random.choice(os.listdir(folder))\n",
    "    #print(choice)\n",
    "    maxlen = len(os.listdir(folder))\n",
    "    counter = 0\n",
    "    while not cond(choice):\n",
    "        choice = random.choice(os.listdir(folder))\n",
    "        if counter > maxlen:\n",
    "            raise\n",
    "        counter += 1\n",
    "    if withoutFolder:\n",
    "        return choice\n",
    "    else:\n",
    "        return folder + choice"
   ]
  },
  {
   "cell_type": "markdown",
   "id": "f99d1e99-bbdb-4c6d-98a2-0c01a3ad5b24",
   "metadata": {
    "tags": []
   },
   "source": [
    "### finding things in the list that are the same not to print them twice\n",
    "----------"
   ]
  },
  {
   "cell_type": "code",
   "execution_count": 120,
   "id": "6990cf6f-49cc-4c45-9ec7-71af692d004e",
   "metadata": {},
   "outputs": [
    {
     "data": {
      "text/plain": [
       "('g=1,pert=0.2', ['h=2,a=1,w=3', 'h=3,a=1,w=4', 'h=2,a=2,w=4'])"
      ]
     },
     "execution_count": 120,
     "metadata": {},
     "output_type": "execute_result"
    }
   ],
   "source": [
    "def findDifferentElementsStrings(listOfStrings):\n",
    "    different = []\n",
    "    the_same = []\n",
    "    if len(listOfStrings) != 0:\n",
    "        # create the intersection to distinguish same elements\n",
    "        same = set(listOfStrings[0].split(\",\"))\n",
    "        #print(same)\n",
    "        for i in range(1,len(listOfStrings)):\n",
    "            tmp = set(listOfStrings[i].split(\",\"))\n",
    "            same = same.intersection(tmp)\n",
    "            #print(same)\n",
    "        # after having the intersection find the list of names to put into legend that are different\n",
    "        for i in range(0, len(listOfStrings)):\n",
    "            tmp = set(listOfStrings[i].split(\",\")) - same\n",
    "            different.append(listToString(tmp))\n",
    "        the_same = list(same)\n",
    "    # return same and list of different strings in the form of tuple\n",
    "    return (listToString(np.sort(the_same)), different)\n",
    "\n",
    "findDifferentElementsStrings([\"g=1,h=2,w=3,a=1,pert=0.2\", \"g=1,h=3,w=4,a=1,pert=0.2\",\"g=1,h=2,w=4,a=2,pert=0.2\"])"
   ]
  },
  {
   "cell_type": "markdown",
   "id": "a39b894d-1935-429e-8289-07afd9217efd",
   "metadata": {
    "tags": []
   },
   "source": [
    "### Print to file with adjusting column width"
   ]
  },
  {
   "cell_type": "code",
   "execution_count": 8,
   "id": "a0e4c9ca-a34c-4186-9e2a-d90044b8f518",
   "metadata": {},
   "outputs": [],
   "source": [
    "def justPrinter(file,sep=\"\\t\", elements =[], width = 8, endline = True):\n",
    "    for item in elements:\n",
    "        file.write((str(item) + sep).ljust(width))\n",
    "    if endline:\n",
    "        file.write(\"\\n\")"
   ]
  },
  {
   "cell_type": "markdown",
   "id": "2570338d-fe98-442d-b58e-b60531c9016c",
   "metadata": {},
   "source": [
    "#### return list of axes"
   ]
  },
  {
   "cell_type": "code",
   "execution_count": 9,
   "id": "00a582ec-be77-4cea-8ac8-64b49bea60df",
   "metadata": {},
   "outputs": [],
   "source": [
    "def listOfAxis(num, figsize = (10,10), dpi = 100):\n",
    "    fig, ax = plt.subplots(num, figsize=(10,10), dpi = 100)\n",
    "    sns.set_style(\"ticks\")\n",
    "    # set axis for it to always be a list\n",
    "    axis = []\n",
    "    if num > 1: # if we have many columns to plot\n",
    "        axis = [ax[i] for i in range(num)]\n",
    "    else:\n",
    "        axis = [ax]\n",
    "    return fig, axis"
   ]
  },
  {
   "cell_type": "markdown",
   "id": "913347f2-2a41-4299-a344-80cc9949d5bc",
   "metadata": {},
   "source": [
    "------------\n",
    "## IMAGES AND ETC."
   ]
  },
  {
   "cell_type": "markdown",
   "id": "b69f6f03-acf4-423c-a98d-43fb41b77f94",
   "metadata": {},
   "source": [
    "#### make gif"
   ]
  },
  {
   "cell_type": "code",
   "execution_count": 83,
   "id": "0f18b377-3e3a-4511-906b-fc69f05eb6cb",
   "metadata": {},
   "outputs": [],
   "source": [
    "def makegif(directory, name, distinguishers, images,fps=1.0):\n",
    "    folder = f'{directory}plots{kPSep}' \n",
    "    kwargs_write = {'fps':fps, 'quantizer':'nq'}\n",
    "    imageio.mimsave(folder + f'{name}_{listToString(distinguishers)}.gif', images, fps=1)"
   ]
  },
  {
   "cell_type": "markdown",
   "id": "246f1a6c-83dc-49a2-9fe9-cba73bbaeb96",
   "metadata": {},
   "source": [
    "#### make axis style for image"
   ]
  },
  {
   "cell_type": "code",
   "execution_count": 129,
   "id": "c8064bd7-9dfb-4937-b278-77dae17a5e4d",
   "metadata": {},
   "outputs": [],
   "source": [
    "def setPlotElems(ax, xlabel, ylabel, xscale, yscale, legend = True, leg_names = [], font_size = 8.5, xlim =[], ylim=[]):\n",
    "    ax.set(xlabel = xlabel, ylabel = ylabel)\n",
    "    ax.set_yscale(yscale)\n",
    "    ax.set_xscale(xscale)\n",
    "    \n",
    "    if legend:\n",
    "        ax.legend(leg_names\n",
    "                , frameon=False\n",
    "                , loc='best'\n",
    "                , fontsize=font_size)\n",
    "    \n",
    "    xmin, xmax = xlim\n",
    "    ymin, ymax = ylim\n",
    "    if xmin != None and xmax != None:\n",
    "        ax.set_xlim([xmin,xmax])\n",
    "    if ymin != None and ymax != None:\n",
    "        ax.set_ylim([ymin, ymax])"
   ]
  },
  {
   "cell_type": "markdown",
   "id": "650bc0e9-c85e-4058-a830-e1d4daab26f9",
   "metadata": {
    "tags": []
   },
   "source": [
    "-------------------------\n",
    "# Handle all the files starting from a given name given by the user and distinguished by the parameters and return the list of dataframes"
   ]
  },
  {
   "cell_type": "code",
   "execution_count": 10,
   "id": "970419d8-0cdb-4d22-98d7-48b9b02b693d",
   "metadata": {},
   "outputs": [],
   "source": [
    "def check_header(filename):\n",
    "    with open(filename) as f:\n",
    "        first = f.read(1)\n",
    "        return first not in '.-0123456789'"
   ]
  },
  {
   "cell_type": "markdown",
   "id": "20e6876c-4a39-4b96-8e1a-f85b1ab40a0a",
   "metadata": {},
   "source": [
    "### Fit functions\n",
    "---------"
   ]
  },
  {
   "cell_type": "code",
   "execution_count": 11,
   "id": "672a2ffc-a762-4399-88b3-c320210e8b12",
   "metadata": {},
   "outputs": [
    {
     "data": {
      "text/plain": [
       "{<function __main__.poisson_fit(x, lambd)>: ('poisson',\n",
       "  '$\\\\lambda$*exp(-$\\\\lambda$x):',\n",
       "  '$\\\\lambda$='),\n",
       " <function __main__.laplace_fit(x, lambd, mu)>: ('laplace',\n",
       "  'exp(-|x-$\\\\mu$|/$\\\\lambda$)/2$\\\\lambda$:',\n",
       "  '$\\\\mu$=',\n",
       "  '$\\\\lambda$='),\n",
       " <function __main__.exponential_fit(x, lambd, sigma)>: ('exponential',\n",
       "  '$\\\\sigma$*exp(-$\\\\lambda$x):',\n",
       "  '$\\\\sigma$=',\n",
       "  '$\\\\lambda$='),\n",
       " <function __main__.gauss_fit(x, mu, sigma)>: ('gaussian',\n",
       "  'exp(-$(x-\\\\mu)^2$/2($\\\\sigma^2$))/($\\\\sigma$*$\\\\sqrt{2\\\\pi}$):',\n",
       "  '$\\\\mu$=',\n",
       "  '$\\\\sigma$='),\n",
       " <function __main__.linear_fit(x, a, b)>: ('linear', 'a*x+b:', 'a=', 'b=')}"
      ]
     },
     "execution_count": 11,
     "metadata": {},
     "output_type": "execute_result"
    }
   ],
   "source": [
    "def poisson_fit(x, lambd):\n",
    "    return lambd * np.exp(-lambd * np.abs(x))\n",
    "    \n",
    "def laplace_fit(x, lambd,mu):\n",
    "    return np.exp(-np.abs(x - mu)/lambd)/(2*lambd)\n",
    "\n",
    "def exponential_fit(x, lambd,sigma):\n",
    "    return sigma * np.exp(-lambd * np.abs(x))\n",
    "\n",
    "def gauss_fit(x, mu, sigma):\n",
    "    return np.exp(-0.5*np.power(x-mu,2)/(sigma*sigma))/(sigma*math.sqrt(2*np.pi))\n",
    "\n",
    "def linear_fit(x,a,b):\n",
    "    return a*x+b\n",
    "\n",
    "fitDic = {\n",
    "    poisson_fit : ('poisson','$\\lambda$*exp(-$\\lambda$x):' ,'$\\lambda$='),\n",
    "    laplace_fit : ('laplace','exp(-|x-$\\mu$|/$\\lambda$)/2$\\lambda$:',\"$\\mu$=\",'$\\lambda$='),\n",
    "    exponential_fit : ('exponential','$\\sigma$*exp(-$\\lambda$x):', '$\\sigma$=', '$\\lambda$=' ),\n",
    "    gauss_fit : ('gaussian','exp(-$(x-\\mu)^2$/2($\\sigma^2$))/($\\sigma$*$\\sqrt{2\\pi}$):', '$\\mu$=', '$\\sigma$=' ),\n",
    "    linear_fit : ('linear', 'a*x+b:', 'a=', 'b=')\n",
    "}\n",
    "fitDic"
   ]
  },
  {
   "cell_type": "markdown",
   "id": "a350cfd4-3184-42e1-92df-fc43538e6632",
   "metadata": {},
   "source": [
    "##### distinguish between different fits and append it to the legend list"
   ]
  },
  {
   "cell_type": "code",
   "execution_count": 134,
   "id": "1569a104-f73e-4105-94e8-cc037ad81c7c",
   "metadata": {},
   "outputs": [],
   "source": [
    "def addFitFunction(fitFun, appendList, popt, chi_p_value):\n",
    "    tmp = fitDic[fitFun]\n",
    "    fitname = tmp[0] + ',' + tmp[1]\n",
    "    counter = 0\n",
    "    for param in tmp[2:]:\n",
    "        appendList.append(f'{param}' + \"{:.3f}\".format(popt[counter]))\n",
    "        counter += 1\n",
    "    appendList.append(f'\\nChi={chi_p_value:.3f}')\n",
    "    return fitname"
   ]
  },
  {
   "cell_type": "markdown",
   "id": "7c74f51a-9d98-41da-bba1-2e6911380e66",
   "metadata": {},
   "source": [
    "##### fit to dataframe from dataframe"
   ]
  },
  {
   "cell_type": "code",
   "execution_count": 135,
   "id": "04474c6d-2a68-4f27-8206-20c7214a7ae2",
   "metadata": {},
   "outputs": [],
   "source": [
    "def fitToDataframe(fitFun, x, y):\n",
    "    # fit curve\n",
    "    xdata = np.array(x)\n",
    "    ydata = np.array(y)\n",
    "    popt, pcov = curve_fit(fitFun, x, ydata)\n",
    "    predict = np.array(fitFun(xdata, *popt))\n",
    "    \n",
    "    ydataChi = ydata / np.sum(ydata)\n",
    "    popt2, pcov2 = curve_fit(fitFun, x, ydataChi)\n",
    "    predictChi = np.array(fitFun(xdata, *popt2))\n",
    "    predictChi = predictChi / np.sum(predictChi)\n",
    "    \n",
    "    #print(np.sum(ydataChi),np.sum(predictChi))\n",
    "    chi, pval_chi = stats.chisquare(f_obs=ydataChi, f_exp=predictChi)\n",
    "    return popt, chi, pd.DataFrame(predict)"
   ]
  },
  {
   "cell_type": "markdown",
   "id": "bfe69532-ee46-4ea8-9358-733c3d524d7c",
   "metadata": {
    "tags": []
   },
   "source": [
    "-----------\n",
    "### Give dataframes from files"
   ]
  },
  {
   "cell_type": "code",
   "execution_count": null,
   "id": "023a74c5-420d-46ad-8b57-8abaa808dc50",
   "metadata": {},
   "outputs": [],
   "source": [
    "def handle_all_files(directory, file_begin, columns, distinguishers, separator = \"\\t\\t\", fitfunctions = []):\n",
    "    # columns is a list of tuples of column number and its name [(0:...)] etc -> 0 is an idx\n",
    "    dfs = []\n",
    "    # make fit before\n",
    "       \n",
    "    \n",
    "    for filename in os.listdir(directory):\n",
    "        if filename[-4:] != \".dat\" or not filename.startswith(file_begin):\n",
    "            continue\n",
    "        # split the name and the parameters\n",
    "        splitter = filename[:-4].split(\"_\")\n",
    "        # split each of the parameters \n",
    "        params = splitter[-1].split(\",\")\n",
    "        skip = False\n",
    "        \n",
    "        for element in distinguishers:\n",
    "            in_bucket = False\n",
    "            # check elements in each element_bucket\n",
    "            for bucket in element:\n",
    "                if bucket in params:\n",
    "                    in_bucket = True\n",
    "            # if none of possible parameters from individual bucket is in params => skip\n",
    "            if not in_bucket:\n",
    "                skip = True\n",
    "                break\n",
    "                \n",
    "        if not skip or len(distinguishers) == 0:\n",
    "            skip_rows = 0\n",
    "            # check if there is a header present already\n",
    "            if check_header(directory + filename):\n",
    "                skip_rows = 1\n",
    "            tmp = pd.read_csv(directory + filename, sep = separator, header=None, skiprows = skip_rows, index_col = 0)\n",
    "\n",
    "            # check if nan's are in and skip that column if all are nans\n",
    "            tmp = tmp.loc[:,tmp.notna().all(axis=0)]\n",
    "            # if there is still something to read then read!\n",
    "            if len(columns) > 0:\n",
    "                names = [column[0] for column in columns]\n",
    "                numbers = [column[1] for column in columns]\n",
    "                \n",
    "                # take everything except the index\n",
    "                tmp = tmp[numbers[1:]]\n",
    "                tmp.columns = names[1:]\n",
    "            # append new df to a list of dataframes with its params   \n",
    "            dfs.append((tmp, listToString(params)))\n",
    "            for fitFun in fitfunctions:\n",
    "                # always take the first column for the fit\n",
    "                popt,chi, fit_df = fitToDataframe(fitFun, tmp.index, tmp[columns[1][0]])\n",
    "                fit_df.index = tmp.index\n",
    "                # add labels\n",
    "                params_fit = []\n",
    "                fitname = addFitFunction(fitFun, params_fit,popt, chi)\n",
    "                name,function  = fitname.split(',')\n",
    "                params_fit = [function] + params_fit + [name]\n",
    "                #print(params_fit)\n",
    "                # append to dataframes\n",
    "                dfs.append((fit_df, f'{listToString(params_fit,separator=\":\")},{listToString(params,separator=\",\")}'))    \n",
    "    #print(dfs)\n",
    "    return dfs\n",
    "\n",
    "tmp = handle_all_files(symm_pbc, \"perturbationOperatorsDist\", columns = [(\"$S^x_p$ - $S^x_{p+dp}$\", 0), (\"$P(S^x_p-S^x_{p+dp})$\", 1)]\\\n",
    "                       , distinguishers = [[\"h=1.35\"],[\"g=0.80\"],['pert=0.0010']], fitfunctions = [gauss_fit])\n",
    "tmp"
   ]
  },
  {
   "cell_type": "code",
   "execution_count": null,
   "id": "a8f543ad-4772-4d61-8b0c-6c6341a2a35c",
   "metadata": {},
   "outputs": [],
   "source": []
  },
  {
   "cell_type": "code",
   "execution_count": null,
   "id": "5d42d99a-50d6-46b5-ae5b-2a87adb9f321",
   "metadata": {},
   "outputs": [],
   "source": []
  },
  {
   "cell_type": "markdown",
   "id": "21551e63-89fc-482f-8bae-18abc6aff5bc",
   "metadata": {},
   "source": [
    "# Operators plotter as a function of energies, plots all elements connecting files with parameters present in the distinguisher"
   ]
  },
  {
   "cell_type": "code",
   "execution_count": 197,
   "id": "3598e364-7c54-4a95-928e-c28781deae2a",
   "metadata": {},
   "outputs": [],
   "source": [
    "def plot_av_operator_dfs(directory, file_begin, columns, distinguishers, operator_name,\\\n",
    "                         scale_x = \"linear\", scale_y = \"linear\",chi_squared = False,\\\n",
    "                         separator = \"\\t\\t\", fitfunctions = [],gif = False,save_files=True,\\\n",
    "                         xmin = -0.05, xmax = 0.05, ymin = 0.01, ymax = 100):\n",
    "    # clean plot    \n",
    "    plt.clf()\n",
    "    plt.cla()\n",
    "    \n",
    "    fitter = []\n",
    "    for fitFun in fitfunctions:\n",
    "        fitter.append(fitDic[fitFun][0])\n",
    "        \n",
    "    # save in folder\n",
    "    folder = f'{directory}plots{kPSep}' \n",
    "    createFolder([folder])\n",
    "    #print(directory)\n",
    "    # find the list of dataframes\n",
    "    a = handle_all_files(directory, file_begin, columns, distinguishers, separator = separator, fitfunctions = fitfunctions)\n",
    "    if len(a) == 0:\n",
    "        return\n",
    "    else:\n",
    "        #unpack\n",
    "        listOfDf = [item[0] for item in a]\n",
    "        labels = ([item[1] for item in a])\n",
    "        \n",
    "    #print(labels)\n",
    "    # create number of figures to be plotted\n",
    "    fig, axis = listOfAxis(len(columns) - 1, figsize=(10,10), dpi = 100)\n",
    "\n",
    "    # for files\n",
    "    same_and_diff = findDifferentElementsStrings(labels)\n",
    "    savefile = file_begin + \"_\" + same_and_diff[0]\n",
    "    \n",
    "    # plot\n",
    "    colorki = [next(colors) for i in range(len(listOfDf))]\n",
    "    markerki = [next(markers) for i in range(len(listOfDf))]\n",
    "    \n",
    "    # iterate over dataframes\n",
    "    df_iter = 0\n",
    "    for df in listOfDf:\n",
    "        itr = 0\n",
    "        for col in df.columns:\n",
    "            df[col].plot(ax = axis[itr]\n",
    "                    , linewidth=0.5\n",
    "                    , marker=markerki[df_iter]\n",
    "                    , markersize=1.8\n",
    "                    , color = colorki[df_iter])\n",
    "            itr+=1\n",
    "        df_iter += 1\n",
    "    #print(\"same_and_diff is:\",np.sort(same_and_diff[1]))\n",
    "    # set the style\n",
    "    for i in range(len(columns) - 1):\n",
    "        \n",
    "        setPlotElems(axis[i], columns[0][0],\n",
    "                     columns[i+1][0], xscale = scale_x, yscale=scale_y,\n",
    "                     legend = len(listOfDf) > 1, \n",
    "                     leg_names = same_and_diff[1],\n",
    "                     font_size = 8.5,\n",
    "                     xlim =[xmin,xmax], ylim=[ymin,ymax])\n",
    "\n",
    "    \n",
    "    # add title\n",
    "    fig.suptitle(operator_name + \" for \" + same_and_diff[0], y=0.91)\n",
    "    # set fitfunctions\n",
    "    # GIF\n",
    "    fig.canvas.draw()\n",
    "    image = np.frombuffer(fig.canvas.tostring_rgb(), dtype='uint8')\n",
    "    if gif:\n",
    "        image = image.reshape(fig.canvas.get_width_height()[::-1] + (3,))\n",
    "        plt.close()\n",
    "    if save_files:\n",
    "        fits = \".png\"\n",
    "        if(len(fitfunctions) > 0):\n",
    "            fits = f',{listToString(fitter,\",\")}{fits}'\n",
    "            #print(fits)\n",
    "        plt.savefig(f'{folder + savefile},scale_y={scale_y},scale_x={scale_x }{fits}')\n",
    "        plt.show()\n",
    "        plt.close()\n",
    "\n",
    "            \n",
    "    #\n",
    "    return image\n",
    "   "
   ]
  },
  {
   "cell_type": "code",
   "execution_count": 175,
   "id": "96f6d72c-2d30-4fc1-bf95-6dede772f546",
   "metadata": {},
   "outputs": [],
   "source": [
    "# sigma_x                    \n",
    "#plot_av_operator_dfs(symm_pbc, \"SigmaX\",columns = [(\"E/L\",0), (\"<n|$S_x$|n>\",1)], distinguishers = [], operator_name = \"<n|$S_x$|n>\") \n",
    "# sigma_x prob dist\n",
    "#plot_av_operator_dfs(symm_pbc, \"ProbDistSigmaX\",columns = [(\"$S^x_{nn}$\", 0), (\"P($S^x_{nn}$)\",1)], distinguishers = [[\"L=18\"],[\"g=0.80\"], [\"h=1.00\",\"h=1.50\"]],\n",
    "#                      operator_name = \"Probability distribution of $S^x_{nn}$\", scale_y = 'log', fitfunctions = []) \n",
    "# sigma x repulsion\n",
    "#plot_av_operator_dfs(symm_pbc, \"ProbDistSpecRapSigmaX\",columns = [(\"$S^x_{nn} - $S^x_{n-1,n-1}$\", 0), (\"P(r)\",1)],\n",
    " #distinguishers = [[\"L=19\",\"L=18\", \"L=17\", \"L=16\"],[\"g=0.8\"], [\"h=1.00\"]], operator_name = \"(\"$S^x_{nn} - $S^x_{n-1,n-1}$\", 0), (\"P(r)\",1)\", scale_y = 'linear', separator = '\\t')\n",
    "# sigma x prob dist all sectors\n",
    "#plot_av_operator_dfs(symm_pbc, \"ProbDistSpecRapSigmaXAllSectors\",columns = [(\"$S^x_{nn} - $S^x_{n-1,n-1}$\", 0), (\"P(r)\",1)],\n",
    " #distinguishers = [], operator_name = \"P(r) for all sectors\", scale_y = 'linear', separator = '\\t\\t') \n",
    "\n",
    "# energy difference\n",
    "#plot_av_operator_dfs(symm_pbc + \"/EnergyDiff/\", \"perturbationEnergyDiffDist\",columns = [(\"E-E'\", 0), (\"P(E-E')\",1)], \n",
    "#                     distinguishers = [[\"L=18\"],[\"g=0.80\"], [\"h=1.80\"], [\"pert=0.0100\", \"pert=0.0300\", \"pert=0.1100\", \"pert=0.1500\"]],\n",
    "#                     operator_name = \"P(E-E')\", scale_y = 'log', fitfunctions =[], xmin = -0.25, xmax = 0.25) \n",
    "# operators dist\n",
    "\n",
    "\n",
    "    "
   ]
  },
  {
   "cell_type": "code",
   "execution_count": null,
   "id": "593c543b-9fca-4021-ab68-245f4c2a06f5",
   "metadata": {},
   "outputs": [],
   "source": [
    "for hval in hvalues:    \n",
    "    images = []\n",
    "    for i in pert_vec:\n",
    "        #print(i)\n",
    "        im = plot_av_operator_dfs(symm_pbc, \"perturbationOperatorsDist\",columns = [(\"$S^x_p$ - $S^x_{p+dp}$\", 0), (\"$P(S^x_p-S^x_{p+dp})$\", 1)],\n",
    "                        distinguishers = [[\"L=18\"],[\"g=0.80\"], [f\"h={hval:.2f}\"], [f\"pert={i:.4f}\"]],\n",
    "                        operator_name = \"Probability distribution with perturbation\", scale_y =\"log\",\\\n",
    "                         fitfunctions=[laplace_fit, gauss_fit],gif=True,save_files = False,\\\n",
    "                         xmin = -0.1, xmax = 0.1, ymin = 0.1, ymax = 500) \n",
    "        images.append(im)     \n",
    "    makegif(symm_pbc, \"perturbationOperatorsDist$S^x$\", [[\"L=18\"],[\"g=0.80\"], [f\"h={hval:.2f}\"]], images)"
   ]
  },
  {
   "cell_type": "code",
   "execution_count": null,
   "id": "0121b81b-2c01-4cf3-b16e-c3717d365438",
   "metadata": {},
   "outputs": [],
   "source": [
    "\n",
    "for i in pert_vec[5:17]:\n",
    "    print(i)\n",
    "    images = []\n",
    "    for hval in hvalues:    \n",
    "        \n",
    "        print(hval)\n",
    "        im = plot_av_operator_dfs(symm_pbc, \"perturbationOperatorsDist\",columns = [(\"$S^x_p$ - $S^x_{p+dp}$\", 0), (\"$P(S^x_p-S^x_{p+dp})$\", 1)],\n",
    "                        distinguishers = [[\"L=18\"],[\"g=0.80\"], [f\"h={hval:.2f}\"], [f\"pert={i:.4f}\"]],\n",
    "                        operator_name = \"Probability distribution with perturbation\", scale_y =\"log\",\\\n",
    "                         fitfunctions=[laplace_fit, gauss_fit],gif=True,save_files = False,\\\n",
    "                         xmin = -0.1, xmax = 0.1, ymin = 0.1, ymax = 500)\n",
    "        if(len(im)>0):\n",
    "            images.append(im)\n",
    "        \n",
    "    makegif(symm_pbc, \"perturbationOperatorsDist$S^x$\", [[\"L=18\"],[\"g=0.80\"], [f\"pert={i:.4f}\"]], images)\n",
    "\n",
    "\n",
    "\n",
    "\n",
    "#ipr scaling with h\n",
    "#plot_av_operator_dfs(symm_pbc, \"IprScaling\",columns = [(\"h\", 0), (\"ipr\", 1), (\"Information entropy\", 2), (\"$r_{goe}$\",3)], distinguishers = [[\"L=18\"],[\"g=1.20\",\"g=0.80\", \"g=0.40\"]], operator_name = \"System scaling with h\")\n",
    "# moments of probability sigma_x fluct\n",
    "#plot_av_operator_dfs(symm_pbc, \"Moments\",columns = [(\"h\", 0), (\"$U_B$\", 1), (\"Kurtossis\", 2), (\"$\\sigma$\",3)], distinguishers = [[\"L=18\"],[\"g=1.20\",\"g=0.80\"]], operator_name = \"System scaling with h\")"
   ]
  },
  {
   "cell_type": "markdown",
   "id": "4bd041cf-f1a3-438a-aea7-a047b120ed1b",
   "metadata": {},
   "source": []
  },
  {
   "cell_type": "markdown",
   "id": "0ca04311-6f9e-4eba-b9f5-c444d26bef4c",
   "metadata": {},
   "source": [
    "## Plot only distributions in different files"
   ]
  },
  {
   "cell_type": "code",
   "execution_count": 6,
   "id": "08422308-a8a9-4bea-8af9-638848300620",
   "metadata": {},
   "outputs": [],
   "source": [
    "def plot_distribution(directory, file_begin, columns, distinguishers, distribution_name, column_num = [], separator = \"\\t\\t\"):\n",
    "    try:\n",
    "        folder = 'plots/' + directory \n",
    "        if not os.path.isdir(folder):\n",
    "            os.makedirs(folder)\n",
    "    except OSError:\n",
    "        print(\"Creation of the directory %s failed\" % (folder))\n",
    "    else:\n",
    "        sns.set_style(\"ticks\")\n",
    "        # find the list of dataframes\n",
    "        listOfDf = handle_all_files(directory, file_begin,columns, distinguishers, column_num, separator)\n",
    "        labels = [item[1] for item in listOfDf]\n",
    "        same_and_diff = findDifferentElementsStrings(labels)\n",
    "        \n",
    "        # plot \n",
    "        counter = 0\n",
    "        for df in listOfDf:\n",
    "            savefile = file_begin + \"_\" + same_and_diff[0] + \",\" + labels[counter]\n",
    "            fig, ax = plt.subplots(len(columns) - 1, figsize=(12,8), dpi = 120) \n",
    "            axis = []\n",
    "            if len(columns) > 2: # if we have many columns to plot\n",
    "                axis = [ax[i] for i in range(len(columns) - 1)]\n",
    "            else:\n",
    "                axis = [ax]\n",
    "            \n",
    "            step = 0.01\n",
    "            _min = np.min(df[0].index)\n",
    "            _max = np.max(df[0].index)\n",
    "            new_ticks = [_min + step * i for i in range(0, int((_max-_min)/step) + 1)]\n",
    "            print(new_ticks)\n",
    "            itr = 0\n",
    "            for col in df[0].columns:      \n",
    "\n",
    "                df[0][col].plot.bar(ax = axis[itr], rot=15, color = next(colors))\n",
    "                axis[itr].set(title = distribution_name + \" for \" + same_and_diff[0] + \",\" + same_and_diff[1][counter]\n",
    "                            ,xlabel = col\n",
    "                            ,ylabel = distribution_name)\n",
    "                #axis[itr].get_legend().remove()\n",
    "                #(same_and_diff\n",
    "                #            , frameon=False\n",
    "                #            , loc='best'\n",
    "                #            , fontsize=8)\n",
    "                axis[itr].set_xticks(np.interp(new_ticks, df[0].index, np.arange(df[0].size)))\n",
    "                axis[itr].set_xticklabels(new_ticks)\n",
    "                itr+=1\n",
    "            counter+=1\n",
    "            plt.savefig(folder + savefile + \".pdf\")\n",
    "            plt.savefig(folder + savefile + \".png\")\n",
    "            plt.show()\n",
    "\n",
    "\n",
    "#plot_distribution(symm_pbc, \"ProbDistSpecRapSigmaX\", columns = [\"P(|r|)\", \"<n + 1|$S_x$|n + 1> - <n|$S_x$|n>\"], distinguishers = [], distribution_name= \"P(|r|)\", separator = \"\\t\")"
   ]
  },
  {
   "cell_type": "markdown",
   "id": "003e3eea-5a41-4a33-87fb-ae7c493e828f",
   "metadata": {},
   "source": [
    "# PLOT HEATMAP"
   ]
  },
  {
   "cell_type": "code",
   "execution_count": 11,
   "id": "d40c566d-6ddf-4ca5-aca6-0757a23e222a",
   "metadata": {},
   "outputs": [
    {
     "name": "stderr",
     "output_type": "stream",
     "text": [
      "<ipython-input-8-1fe9dfbc6c59>:51: ParserWarning: Falling back to the 'python' engine because the 'c' engine does not support regex separators (separators > 1 char and different from '\\s+' are interpreted as regex); you can avoid this warning by specifying engine='python'.\n",
      "  tmp = pd.read_csv(directory + filename, sep = separator, header=None,skiprows = skip_rows, index_col = 0)\n"
     ]
    },
    {
     "name": "stdout",
     "output_type": "stream",
     "text": [
      "0.308087 0.30844\n"
     ]
    },
    {
     "data": {
      "image/png": "[encoded data removed]",
      "text/plain": [
       "<Figure size 1200x1000 with 2 Axes>"
      ]
     },
     "metadata": {},
     "output_type": "display_data"
    }
   ],
   "source": [
    "def plot_heat_map(directory, file_begin, columns, distinguishers, operator_name, separator = \"\\t\\t\"):\n",
    "    try:\n",
    "        folder = 'plots/' + directory \n",
    "        if not os.path.isdir(folder):\n",
    "            os.makedirs(folder)\n",
    "    except OSError:\n",
    "        print(\"Creation of the directory %s failed\" % (folder))\n",
    "    else:\n",
    "        sns.set_style(\"ticks\")\n",
    "        \n",
    "        # find the list of dataframes\n",
    "        listOfDf = handle_all_files(directory, file_begin,columns, distinguishers, separator)\n",
    "        labels = [item[1] for item in listOfDf]\n",
    "        same_and_diff = findDifferentElementsStrings(labels)\n",
    "            \n",
    "        # plot \n",
    "        counter = 0\n",
    "        for df in listOfDf:\n",
    "            fig, ax = plt.subplots(figsize=(12,10), dpi = 100)\n",
    "            savefile = operator_name + \"_\" + same_and_diff[0] + \",\" + labels[counter]\n",
    "            df[0][\"index\"] = df[0].index\n",
    "            cols = df[0].columns\n",
    "            #print(cols)\n",
    "            pivotted = df[0].pivot(cols[2], cols[0], cols[1])\n",
    "            # PLOT \n",
    "            z = np.array(df[0].loc[:,cols[1]])\n",
    "            y = np.array(df[0].loc[:,cols[0]])\n",
    "            x = np.array(df[0].loc[:,cols[2]])\n",
    "            #print(z)\n",
    "            mini = np.min(z)\n",
    "            maxi = np.max(z)\n",
    "            print(mini,maxi)\n",
    "            sns.heatmap(pivotted,cmap='coolwarm',vmin=np.min(z), vmax=np.max(z))\n",
    "            #sns.heatmap(pivotted,cmap='coolwarm',vmin=np.min(z), vmax=np.max(z))\n",
    "            if(len(columns) == 3):\n",
    "                plt.xlabel(columns[0][0])\n",
    "                plt.ylabel(columns[1][0])\n",
    "            #ax.set_zscale([0.35,0.535])\n",
    "            plt.title(operator_name + \" for \" + labels[counter])\n",
    "            plt.savefig(folder + savefile + \".png\")\n",
    "            plt.savefig(folder + savefile + \".pdf\")\n",
    "            plt.show()\n",
    "            counter +=1\n",
    "    \n",
    "                  \n",
    "\n",
    "\n",
    "# ipr parameter sweeep\n",
    "plot_heat_map(symm_pbc, \"IprScalingMap\",columns = [(\"g\",0), (\"h\",1),(\"ipr\",2)], distinguishers = [[\"L=15\"]], operator_name = \"ipr\") "
   ]
  },
  {
   "cell_type": "code",
   "execution_count": null,
   "id": "1cd8192e-06a6-4aa9-8955-03d3fc3885fc",
   "metadata": {},
   "outputs": [],
   "source": []
  },
  {
   "cell_type": "code",
   "execution_count": null,
   "id": "1c89b0c4-3fee-4a40-b144-f99f110236b9",
   "metadata": {},
   "outputs": [],
   "source": []
  },
  {
   "cell_type": "code",
   "execution_count": null,
   "id": "73547c54-f0b3-4201-8229-ce866a6aad5d",
   "metadata": {},
   "outputs": [],
   "source": []
  },
  {
   "cell_type": "code",
   "execution_count": null,
   "id": "25943d8c-990d-41ac-8594-f3c46ec46639",
   "metadata": {},
   "outputs": [],
   "source": []
  },
  {
   "cell_type": "code",
   "execution_count": null,
   "id": "2fa39582-2089-4549-9651-3f6692631880",
   "metadata": {},
   "outputs": [],
   "source": []
  },
  {
   "cell_type": "code",
   "execution_count": null,
   "id": "c6645a81-0275-4e69-b6ad-d2a617f2f65e",
   "metadata": {},
   "outputs": [],
   "source": []
  },
  {
   "cell_type": "code",
   "execution_count": null,
   "id": "5eae0cec-3e53-4d45-980e-9d279dac0a1f",
   "metadata": {},
   "outputs": [],
   "source": []
  },
  {
   "cell_type": "code",
   "execution_count": null,
   "id": "b52d37cb-be13-4aab-aa22-6c7bf45e5953",
   "metadata": {},
   "outputs": [],
   "source": []
  },
  {
   "cell_type": "code",
   "execution_count": null,
   "id": "278057ef-b759-423f-8c12-5e018638c1c4",
   "metadata": {},
   "outputs": [],
   "source": []
  },
  {
   "cell_type": "code",
   "execution_count": null,
   "id": "0535167d-c40e-403d-b3c7-a738e1512c4a",
   "metadata": {},
   "outputs": [],
   "source": []
  },
  {
   "cell_type": "code",
   "execution_count": null,
   "id": "3bd16f82-0245-49f3-959e-86170417b833",
   "metadata": {},
   "outputs": [],
   "source": []
  },
  {
   "cell_type": "code",
   "execution_count": null,
   "id": "16df36e6-63aa-46a3-9e5f-75fb447b8f1a",
   "metadata": {},
   "outputs": [],
   "source": []
  },
  {
   "cell_type": "code",
   "execution_count": null,
   "id": "9604d88f-957d-400a-8bb4-4a05d7a88033",
   "metadata": {},
   "outputs": [],
   "source": [
    "#gaussianity\n",
    "plot_av_operator_dfs(symm_pbc, \"PertKurtosis\",columns = [(\"$\\delta$O\", 0),(\"Kurt(E)\", 1), (\"Kurt($\\sigma_x$)\", 2)],\n",
    "                     distinguishers = [[\"L=18\"],[\"g=0.8\"], [\"h=1.00\", \"h=1.60\", \"h=1.80\"]],\n",
    "                     operator_name = \"Kurtosis with ($O_{p+\\delta O}$-$O_p$)\", scale_y =\"linear\", fitfunctions=[], ymin=0, ymax=5, xmin=0.01, xmax=0.4)"
   ]
  },
  {
   "cell_type": "markdown",
   "id": "80d7ab51-a9e6-49ed-b446-057f4f38d6fc",
   "metadata": {},
   "source": [
    "### ENTROPY"
   ]
  },
  {
   "cell_type": "code",
   "execution_count": 442,
   "id": "16bc8e1b-a96a-457c-9e2e-f017c0357da8",
   "metadata": {},
   "outputs": [],
   "source": [
    "def informationEntropy(stateA, statesB, N, sqrt = False):\n",
    "    ent = 0\n",
    "    for stateB in statesB:\n",
    "        c_k = 0\n",
    "        if not sqrt:\n",
    "            c_k = np.dot(stateA, (stateB))\n",
    "        else:\n",
    "            for i in range(N):\n",
    "                c_k += math.sqrt(stateA[i]) *math.sqrt(stateB[i])\n",
    "                \n",
    "        val = abs(c_k)\n",
    "        ent += val * math.log(val)\n",
    "    return -ent / math.log(0.48 * N)"
   ]
  },
  {
   "cell_type": "code",
   "execution_count": 431,
   "id": "54959608-1c84-46c5-b789-269de2f5442c",
   "metadata": {},
   "outputs": [],
   "source": [
    "def theirFidelity(probaA, probaB, N):\n",
    "    fid = 0\n",
    "    for i in range(N):\n",
    "        fid += math.sqrt(probaA[i]*probaB[i])\n",
    "    return fid"
   ]
  },
  {
   "cell_type": "markdown",
   "id": "37594429-39c0-4b9e-be57-7574d83a3510",
   "metadata": {},
   "source": [
    "# NETWORKS"
   ]
  },
  {
   "cell_type": "code",
   "execution_count": 195,
   "id": "bc54c4ad-b86f-4541-8fb8-235bddfe44b0",
   "metadata": {},
   "outputs": [],
   "source": [
    "# import keras\n",
    "from keras.models import Sequential\n",
    "from keras.layers import Conv2D, MaxPooling2D, GlobalMaxPooling2D, BatchNormalization, Activation, Dropout, Flatten, Dense, GlobalAveragePooling2D, AveragePooling2D\n",
    "from keras.preprocessing.image import ImageDataGenerator\n",
    "from keras.optimizers import SGD, Adam\n",
    "from keras.metrics import MeanAbsoluteError, MeanAbsolutePercentageError, MeanSquaredError\n",
    "from keras.callbacks import History\n",
    "from keras import callbacks\n",
    "from keras import losses\n",
    "from keras import Input, Model\n",
    "from keras import regularizers\n",
    "from keras import initializers, optimizers\n",
    "from plot_keras_history import plot_history\n",
    "from tqdm.keras import TqdmCallback\n",
    "\n",
    "# tensorflow\n",
    "import tensorflow as tf\n",
    "from tensorflow.python.client import device_lib\n",
    "from tensorflow.keras.utils import plot_model\n",
    "from tensorflow import keras\n",
    "from tensorflow.keras import layers\n",
    "from tensorflow.keras.layers.experimental.preprocessing import RandomFlip, RandomRotation, Rescaling\n",
    "print(device_lib.list_local_devices())\n",
    "\n",
    "from sklearn.metrics import mean_squared_error, mean_absolute_error\n",
    "from sklearn.metrics import roc_curve\n",
    "from sklearn.metrics import auc"
   ]
  },
  {
   "cell_type": "code",
   "execution_count": 390,
   "id": "4e452f84-e6a2-43f6-b464-b395ad01403d",
   "metadata": {},
   "outputs": [],
   "source": [
    "kullback_leibler_divergence = keras.losses.kullback_leibler_divergence\n",
    "K = keras.backend\n",
    "\n",
    "def kl_divergence_regularizer(inputs):\n",
    "    means = K.mean(inputs, axis=0)\n",
    "    return 0.01 * (kullback_leibler_divergence(0.05, means))\n"
   ]
  },
  {
   "cell_type": "markdown",
   "id": "6b8f3883-23cc-4015-9279-475b0cee0bba",
   "metadata": {},
   "source": [
    "### AUTOENCODER"
   ]
  },
  {
   "cell_type": "code",
   "execution_count": 398,
   "id": "50b5d21c-2aa4-4065-804d-87310eb5c2ce",
   "metadata": {},
   "outputs": [],
   "source": [
    "def autoEnc(latent_dim, shape, activation = 'relu'):\n",
    "    print(shape)\n",
    "    inputs = Input(shape[0])\n",
    "    x = layers.Dense(shape[0] / 2, activation=activation, kernel_regularizer=regularizers.l1_l2(l1=1e-5, l2=1e-4),activity_regularizer=kl_divergence_regularizer)(inputs)\n",
    "    x = layers.Dropout(0.3)(x)\n",
    "    x = layers.Dense(latent_dim, activation=activation, activity_regularizer=regularizers.l2(1e-5))(x)\n",
    "    x = layers.Dense(shape[0] / 2, activation=activation, kernel_regularizer=regularizers.l1_l2(l1=1e-5, l2=1e-4), activity_regularizer=kl_divergence_regularizer)(x)\n",
    "    x = layers.Dropout(0.3)(x)\n",
    "    outputs = layers.Dense(shape[0] * shape[1], activation='sigmoid')(x)\n",
    "    model = Model(inputs, outputs, name=\"autoencoder\")\n",
    "    return model\n"
   ]
  },
  {
   "cell_type": "code",
   "execution_count": 439,
   "id": "d942a082-fe85-430d-9b2a-1c95b8dfe4eb",
   "metadata": {},
   "outputs": [],
   "source": [
    "def fileAutoencode(directory, model, latent_dim, epo, trainsize = 0.8,filenum = None, batch = 10, verbose = 2, loss = 'mean_squared_error',\\\n",
    "                   activation = 'relu', savename = 'model', save = True):\n",
    "    folderLog = directory + \"_\" + model.getInfo() + kPSep\n",
    "    folder = folderLog + \"wavefunctions\" + kPSep\n",
    "    folderSaveNew = folderLog + \"wavefunctions_encoder\" + kPSep\n",
    "    createFolder([folderSaveNew])\n",
    "    savename = folderLog + f'myModel_loss={loss},activ={activation},latent={latent_dim}'\n",
    "    # read files\n",
    "    wavefuns = []\n",
    "    \n",
    "    files = list(filter(lambda x: x.endswith('.dat'), os.listdir(folder)))\n",
    "    maximum = len(files)\n",
    "    if filenum != None:\n",
    "        maximum = filenum\n",
    "    \n",
    "\n",
    "    counter = 0\n",
    "    for filename in files:\n",
    "        tmp = np.square(np.genfromtxt(folder+filename))\n",
    "        wavefuns.append(tmp)\n",
    "        if counter == maximum:\n",
    "            break\n",
    "        counter+=1\n",
    "    \n",
    "    # separate training etc    \n",
    "    data_train = np.array(wavefuns[0:int(trainsize*maximum)])\n",
    "    data_test = np.array(wavefuns[int(trainsize*maximum):])\n",
    "    \n",
    "    #print(data_train)\n",
    "    print(f'\\n\\n\\t\\tMaking autoencoder with loss={loss},activ={activation},latent={latent_dim}\\t\\t\\n\\n')\n",
    "    autoencoder = autoEnc(latent_dim = latent_dim, shape = (int(modelik.N),1), activation=activation)\n",
    "    # compile model\n",
    "    #kl = tf.keras.losses.KLDivergence(reduction=tf.keras.losses.Reduction.NONE)\n",
    "    autoencoder.compile(optimizer='Adam', loss=loss)\n",
    "    early_stopping_cb = callbacks.EarlyStopping(monitor=\"val_loss\", patience=10)\n",
    "\n",
    "    #autoencoder.summary()\n",
    "\n",
    "    if save:\n",
    "        checkpoint_cb = keras.callbacks.ModelCheckpoint(savename + \".h5\", save_best_only=True)\n",
    "        history = autoencoder.fit(data_train, data_train,\n",
    "            epochs=epo,\n",
    "            shuffle=True,\n",
    "            batch_size = batch,\n",
    "            validation_data=(data_test,data_test),verbose=0, callbacks =\\\n",
    "                          [TqdmCallback(verbose = 1), checkpoint_cb, early_stopping_cb])\n",
    "        print(\"\\t\\t---->creating h5 file: \" + savename + \".h5\")\n",
    "        autoencoder.save(savename + \".h5\", save_format='h5')\n",
    "    else:\n",
    "        history = autoencoder.fit(data_train, data_train,\n",
    "            epochs=epo,\n",
    "            shuffle=True,\n",
    "            batch_size = batch,\n",
    "            validation_data=(data_test,data_test),verbose=0, callbacks =\\\n",
    "                          [TqdmCallback(verbose = 1), early_stopping_cb])\n",
    "    \n",
    "    # plot model\n",
    "    plot_history(history, path=savename+',training.pdf')\n",
    "    \n",
    "    # save new files\n",
    "    counter = 0\n",
    "    entropy = 0\n",
    "    entropy_before = 0\n",
    "    fidelity = 0\n",
    "    wavefuns = np.array(wavefuns)\n",
    "    for file in wavefuns:\n",
    "        entropy_before += informationEntropy(file, wavefuns, int(model.N), sqrt=True)\n",
    "        \n",
    "        \n",
    "        name = f\"{counter}_wavefun__{model.getInfo()}.txt\"\n",
    "        # predict probabilities\n",
    "        tmp = np.array(autoencoder.predict(np.array([file]))[0])\n",
    "        #print(tmp-file)\n",
    "        \n",
    "        # save to file\n",
    "        fil = open(folderSaveNew + name, \"wb\")\n",
    "        np.save(fil, tmp)\n",
    "        fil.close()\n",
    "        \n",
    "        fidelity += theirFidelity(tmp, file,int(model.N))\n",
    "        entropy += informationEntropy(tmp, wavefuns, int(model.N), sqrt=True)\n",
    "        \n",
    "        if counter == maximum:\n",
    "            break\n",
    "        counter+=1\n",
    "    \n",
    "    return autoencoder, fidelity/counter,entropy_before/counter, entropy/counter"
   ]
  },
  {
   "cell_type": "code",
   "execution_count": 440,
   "id": "8d0301f7-8d2a-4efc-8737-7d65c6f07340",
   "metadata": {},
   "outputs": [],
   "source": [
    "destination = f\"C:{kPSep}Users{kPSep}maxgr{kPSep}Desktop{kPSep}Wyniken{kPSep}WAVES{kPSep}\"\n",
    "modelik = IsingDisorder(11,1,0,0.8,0,0.83,0.1,0)\n",
    "modelik.getInfo()\n",
    "N=modelik.N"
   ]
  },
  {
   "cell_type": "code",
   "execution_count": 441,
   "id": "f081df3d-9135-4b2e-8dec-0b79dacb988a",
   "metadata": {},
   "outputs": [
    {
     "name": "stdout",
     "output_type": "stream",
     "text": [
      "\n",
      "\n",
      "\t\tMaking autoencoder with loss=binary_crossentropy,activ=relu,latent=2048.0\t\t\n",
      "\n",
      "\n",
      "(2048, 1)\n"
     ]
    },
    {
     "data": {
      "application/vnd.jupyter.widget-view+json": {
       "model_id": "38d5ef6c18394e2f93b263e3b179c018",
       "version_major": 2,
       "version_minor": 0
      },
      "text/plain": [
       "0epoch [00:00, ?epoch/s]"
      ]
     },
     "metadata": {},
     "output_type": "display_data"
    },
    {
     "data": {
      "application/vnd.jupyter.widget-view+json": {
       "model_id": "",
       "version_major": 2,
       "version_minor": 0
      },
      "text/plain": [
       "0batch [00:00, ?batch/s]"
      ]
     },
     "metadata": {},
     "output_type": "display_data"
    },
    {
     "name": "stdout",
     "output_type": "stream",
     "text": [
      "WARNING:tensorflow:Callback method `on_train_batch_end` is slow compared to the batch time (batch time: 0.0042s vs `on_train_batch_end` time: 0.0288s). Check your callbacks.\n"
     ]
    },
    {
     "data": {
      "text/plain": [
       "(<tensorflow.python.keras.engine.functional.Functional at 0x25d01132cd0>,\n",
       " 0.7232395664674993,\n",
       " 4.29005826646862,\n",
       " 3.5391113312167897)"
      ]
     },
     "execution_count": 441,
     "metadata": {},
     "output_type": "execute_result"
    },
    {
     "data": {
      "image/png": "[encoded data removed]",
      "text/plain": [
       "<Figure size 360x360 with 1 Axes>"
      ]
     },
     "metadata": {
      "needs_background": "light"
     },
     "output_type": "display_data"
    }
   ],
   "source": [
    "lat_dim = int(N)\n",
    "fileAutoencode(destination, modelik, lat_dim, 100, filenum=100,batch=10, loss='binary_crossentropy',activation='relu', save = False)\n",
    "#kullback_leibler_divergence\n",
    "#mean_squared_error"
   ]
  },
  {
   "cell_type": "code",
   "execution_count": null,
   "id": "46b88c21-5c27-4fc6-a8ce-a855d81768c8",
   "metadata": {},
   "outputs": [],
   "source": []
  },
  {
   "cell_type": "code",
   "execution_count": null,
   "id": "77c2251a-5b71-4c10-80ab-035db2bcdd48",
   "metadata": {},
   "outputs": [],
   "source": []
  }
 ],
 "metadata": {
  "kernelspec": {
   "display_name": "Python 3 (ipykernel)",
   "language": "python",
   "name": "python3"
  },
  "language_info": {
   "codemirror_mode": {
    "name": "ipython",
    "version": 3
   },
   "file_extension": ".py",
   "mimetype": "text/x-python",
   "name": "python",
   "nbconvert_exporter": "python",
   "pygments_lexer": "ipython3",
   "version": "3.8.12"
  }
 },
 "nbformat": 4,
 "nbformat_minor": 5
}
