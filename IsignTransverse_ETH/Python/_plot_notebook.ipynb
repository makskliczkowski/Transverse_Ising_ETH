{
 "cells": [
  {
   "cell_type": "code",
   "execution_count": 1,
   "id": "fba916c2-5550-45db-9dd1-cdba0f68e32a",
   "metadata": {},
   "outputs": [],
   "source": [
    "import matplotlib.pyplot as plt\n",
    "import numpy as np\n",
    "import itertools\n",
    "import os\n",
    "import seaborn as sns\n",
    "import pandas as pd\n",
    "markers = itertools.cycle(['o','s','v', '+'])\n",
    "\n",
    "import matplotlib.colors as mcolors\n",
    "# get all the colors\n",
    "colors = itertools.cycle(list(mcolors.TABLEAU_COLORS)[:30])\n",
    "#%matplotlib\n",
    "\n",
    "disorder_pbc = \"../results/disorder/PBC/\"\n",
    "symm_pbc = \"symmetries/PBC/\""
   ]
  },
  {
   "cell_type": "markdown",
   "id": "1720a31a-ef2a-4ab7-8fe4-063f9895afa8",
   "metadata": {},
   "source": [
    "# String separators and helper functions"
   ]
  },
  {
   "cell_type": "code",
   "execution_count": 2,
   "id": "1f0bf033-88f5-4a76-bfeb-67bcc645a5c4",
   "metadata": {},
   "outputs": [],
   "source": [
    "# Function to convert  \n",
    "def listToString(s, separator = \",\"): \n",
    "    \n",
    "    # initialize an empty string\n",
    "    str1 = \"\" \n",
    "    \n",
    "    # traverse in the string  \n",
    "    for ele in s: \n",
    "        str1 += str(ele)+separator  \n",
    "    \n",
    "    # return string  \n",
    "    return str1[:-1] "
   ]
  },
  {
   "cell_type": "code",
   "execution_count": 3,
   "id": "fcba1374-21f6-48ca-9239-0ba782889e22",
   "metadata": {},
   "outputs": [
    {
     "data": {
      "text/plain": [
       "('g=1', ['h=2', 'h=3,w=4'])"
      ]
     },
     "execution_count": 3,
     "metadata": {},
     "output_type": "execute_result"
    }
   ],
   "source": [
    "def findDifferentElementsStrings(listOfStrings):\n",
    "    different = []\n",
    "    same = set()\n",
    "    if len(listOfStrings) != 0:\n",
    "        # create the intersection to distinguish same elements\n",
    "        same = set(listOfStrings[0].split(\",\"))\n",
    "        for i in range(1,len(listOfStrings)):\n",
    "            tmp = set(listOfStrings[i].split(\",\"))\n",
    "            same = same.intersection(tmp)\n",
    "        # after having the intersection find the list of names to put into legend that are different\n",
    "        for i in range(0, len(listOfStrings)):\n",
    "            tmp = set(listOfStrings[i].split(\",\")) - same\n",
    "            different.append(listToString(tmp))\n",
    "    # return same and list of different strings in the form of tuple\n",
    "    return (listToString(same), different)\n",
    "\n",
    "findDifferentElementsStrings([\"g=1,h=2\", \"g=1,h=3,w=4\"])"
   ]
  },
  {
   "cell_type": "markdown",
   "id": "650bc0e9-c85e-4058-a830-e1d4daab26f9",
   "metadata": {},
   "source": [
    "# Handle all the files starting from a given name given by the user and distinguished by the parameters and return the list of dataframes"
   ]
  },
  {
   "cell_type": "code",
   "execution_count": 15,
   "id": "a7f3db04-9c2e-41d4-911e-a1fc8b183784",
   "metadata": {},
   "outputs": [
    {
     "name": "stderr",
     "output_type": "stream",
     "text": [
      "<ipython-input-15-ed5933d4c304>:34: ParserWarning: Falling back to the 'python' engine because the 'c' engine does not support regex separators (separators > 1 char and different from '\\s+' are interpreted as regex); you can avoid this warning by specifying engine='python'.\n",
      "  tmp = pd.read_csv(directory + filename, sep = separator, header=None,skiprows = skip_rows, index_col = 0)\n"
     ]
    },
    {
     "data": {
      "text/plain": [
       "(         ipr  $r_{goe}$\n",
       " 0                      \n",
       " 12  0.196227   0.485528\n",
       " 13  0.183345   0.524820\n",
       " 14  0.168017   0.491837\n",
       " 15  0.173051   0.509969\n",
       " 16  0.182447   0.521567\n",
       " 17  0.189973   0.528571\n",
       " 18  0.195662   0.522988\n",
       " 19  0.203073   0.528217,\n",
       " 'L=2,g=0.81,h=1.00,k=0,p=1,x=1')"
      ]
     },
     "execution_count": 15,
     "metadata": {},
     "output_type": "execute_result"
    }
   ],
   "source": [
    "def check_header(filename):\n",
    "    with open(filename) as f:\n",
    "        first = f.read(1)\n",
    "        return first not in '.-0123456789'\n",
    "\n",
    "def handle_all_files(directory, file_begin, columns, distinguishers, separator = \"\\t\\t\"):\n",
    "    # columns is a list of tuples of column number and its name [(0:...)] etc -> 0 is an idx\n",
    "    dfs = []\n",
    "    for filename in os.listdir(directory):\n",
    "        if filename[-4:] != \".dat\" or not filename.startswith(file_begin):\n",
    "            continue\n",
    "        # split the name and the parameters\n",
    "        splitter = filename[:-4].split(\"_\")\n",
    "        # split each of the parameters \n",
    "        params = splitter[-1].split(\",\")\n",
    "        skip = False\n",
    "\n",
    "        for element in distinguishers:\n",
    "            in_bucket = False\n",
    "            # check elements in each element_bucket\n",
    "            for bucket in element:\n",
    "                if bucket in params:\n",
    "                    in_bucket = True\n",
    "            # if none of possible parameters from individual bucket is in params => skip\n",
    "            if not in_bucket:\n",
    "                skip = True\n",
    "                break\n",
    "                \n",
    "        if not skip or len(distinguishers) == 0:\n",
    "            skip_rows = 0\n",
    "            # check if there is a header present already\n",
    "            if check_header(directory + filename):\n",
    "                skip_rows = 1\n",
    "            tmp = pd.read_csv(directory + filename, sep = separator, header=None,skiprows = skip_rows, index_col = 0)\n",
    "            #print(tmp)\n",
    "            # check if nan's are in and skip that column if all are nans\n",
    "            tmp = tmp.loc[:,tmp.notna().all(axis=0)]\n",
    "            if len(columns) > 0:\n",
    "                names = [column[0] for column in columns]\n",
    "                numbers = [column[1] for column in columns]\n",
    "                \n",
    "                tmp = tmp[numbers[1:]]\n",
    "                tmp.columns = names[1:]\n",
    "            # append new df to a list of dataframes with its params   \n",
    "            dfs.append((tmp, listToString(params)))\n",
    "    #print(dfs)\n",
    "    return dfs\n",
    "\n",
    "tmp = handle_all_files(symm_pbc, \"IprScaling\", columns = [(\"L\",0), (\"ipr\",1), (\"$r_{goe}$\",3)], distinguishers = [[\"g=0.81\"]])[0]\n",
    "tmp"
   ]
  },
  {
   "cell_type": "code",
   "execution_count": 30,
   "id": "a8f543ad-4772-4d61-8b0c-6c6341a2a35c",
   "metadata": {},
   "outputs": [
    {
     "ename": "NameError",
     "evalue": "name 'directory' is not defined",
     "output_type": "error",
     "traceback": [
      "\u001b[1;31m---------------------------------------------------------------------------\u001b[0m",
      "\u001b[1;31mNameError\u001b[0m                                 Traceback (most recent call last)",
      "\u001b[1;32m<ipython-input-30-5f0eab9d70cb>\u001b[0m in \u001b[0;36m<module>\u001b[1;34m\u001b[0m\n\u001b[0;32m     39\u001b[0m     \u001b[0mplt\u001b[0m\u001b[1;33m.\u001b[0m\u001b[0mshow\u001b[0m\u001b[1;33m(\u001b[0m\u001b[1;33m)\u001b[0m\u001b[1;33m\u001b[0m\u001b[1;33m\u001b[0m\u001b[0m\n\u001b[0;32m     40\u001b[0m \u001b[1;33m\u001b[0m\u001b[0m\n\u001b[1;32m---> 41\u001b[1;33m \u001b[0mplotKurtosisFromDF\u001b[0m\u001b[1;33m(\u001b[0m\u001b[0mdirectory\u001b[0m \u001b[1;33m+\u001b[0m \u001b[1;34m\"./\"\u001b[0m\u001b[1;33m,\u001b[0m \u001b[1;34m\"ProbDistSigmaX\"\u001b[0m\u001b[1;33m,\u001b[0m \u001b[1;34m\"w\"\u001b[0m\u001b[1;33m,\u001b[0m \u001b[1;33m[\u001b[0m\u001b[1;36m12\u001b[0m\u001b[1;33m]\u001b[0m\u001b[1;33m)\u001b[0m\u001b[1;33m\u001b[0m\u001b[1;33m\u001b[0m\u001b[0m\n\u001b[0m",
      "\u001b[1;31mNameError\u001b[0m: name 'directory' is not defined"
     ]
    }
   ],
   "source": []
  },
  {
   "cell_type": "code",
   "execution_count": 32,
   "id": "5d42d99a-50d6-46b5-ae5b-2a87adb9f321",
   "metadata": {},
   "outputs": [
    {
     "ename": "NameError",
     "evalue": "name 'directory' is not defined",
     "output_type": "error",
     "traceback": [
      "\u001b[1;31m---------------------------------------------------------------------------\u001b[0m",
      "\u001b[1;31mNameError\u001b[0m                                 Traceback (most recent call last)",
      "\u001b[1;32m<ipython-input-32-c6149b8d4d98>\u001b[0m in \u001b[0;36m<module>\u001b[1;34m\u001b[0m\n\u001b[0;32m     47\u001b[0m     \u001b[0mplt\u001b[0m\u001b[1;33m.\u001b[0m\u001b[0mshow\u001b[0m\u001b[1;33m(\u001b[0m\u001b[1;33m)\u001b[0m\u001b[1;33m\u001b[0m\u001b[1;33m\u001b[0m\u001b[0m\n\u001b[0;32m     48\u001b[0m \u001b[1;33m\u001b[0m\u001b[0m\n\u001b[1;32m---> 49\u001b[1;33m \u001b[0mplotBinderFromDF\u001b[0m\u001b[1;33m(\u001b[0m\u001b[0mdirectory\u001b[0m \u001b[1;33m+\u001b[0m \u001b[1;34m\"./\"\u001b[0m\u001b[1;33m,\u001b[0m \u001b[1;34m\"ProbDistSigmaX\"\u001b[0m\u001b[1;33m,\u001b[0m \u001b[1;34m\"w\"\u001b[0m\u001b[1;33m,\u001b[0m \u001b[1;33m[\u001b[0m\u001b[1;36m12\u001b[0m\u001b[1;33m]\u001b[0m\u001b[1;33m)\u001b[0m\u001b[1;33m\u001b[0m\u001b[1;33m\u001b[0m\u001b[0m\n\u001b[0m",
      "\u001b[1;31mNameError\u001b[0m: name 'directory' is not defined"
     ]
    }
   ],
   "source": []
  },
  {
   "cell_type": "markdown",
   "id": "21551e63-89fc-482f-8bae-18abc6aff5bc",
   "metadata": {},
   "source": [
    "# Operators plotter as a function of energies, plots all elements connecting files with parameters present in the distinguisher"
   ]
  },
  {
   "cell_type": "code",
   "execution_count": 65,
   "id": "958ea3d7-fa84-4a85-b4a4-6d20976ef1fe",
   "metadata": {},
   "outputs": [],
   "source": [
    "def plot_av_operator_dfs(directory, file_begin, columns, distinguishers, operator_name, scale_x = \"linear\", scale_y = \"linear\", separator = \"\\t\\t\"):\n",
    "    try:\n",
    "        plt.clf()\n",
    "        plt.cla()\n",
    "        folder = 'plots/' + directory \n",
    "        if not os.path.isdir(folder):\n",
    "            os.makedirs(folder)\n",
    "    except OSError:\n",
    "        print(\"Creation of the directory %s failed\" % (folder))\n",
    "    else:\n",
    "        sns.set_style(\"ticks\")\n",
    "        # find the list of dataframes\n",
    "        listOfDf = handle_all_files(directory, file_begin, columns, distinguishers, separator = separator)\n",
    "        # create number of figures to be plotted\n",
    "        fig, ax = plt.subplots(len(columns) - 1, figsize=(12,10), dpi = 100)\n",
    "        \n",
    "        # set labels from our list for parameters \n",
    "        labels = [item[1] for item in listOfDf]\n",
    "        \n",
    "        same_and_diff = findDifferentElementsStrings(labels)\n",
    "        \n",
    "        # set axis for it to always be a list\n",
    "        axis = []\n",
    "        if len(columns) > 2: # if we have many columns to plot\n",
    "            axis = [ax[i] for i in range(len(columns) - 1)]\n",
    "        else:\n",
    "            axis = [ax]\n",
    "        \n",
    "        savefile = file_begin + \"_\" + same_and_diff[0]\n",
    "        # plot \n",
    "        for df in listOfDf:\n",
    "            itr = 0\n",
    "            for col in df[0].columns:\n",
    "                df[0][col].plot(ax = axis[itr]\n",
    "                        , linewidth=0.55\n",
    "                        , marker=next(markers)\n",
    "                        , markersize=2\n",
    "                        , color = next(colors))\n",
    "                itr+=1\n",
    "                \n",
    "        # set the style\n",
    "        for i in range(0, len(columns) - 1):\n",
    "            axis[i].set(title = operator_name + \" with \" +  columns[i+1][0] + \" for \" + same_and_diff[0],\n",
    "                    xlabel = columns[0][0],\n",
    "                    ylabel = operator_name)\n",
    "            if(len(listOfDf) > 1):\n",
    "                axis[i].legend(same_and_diff[1] \n",
    "                        , frameon=False\n",
    "                        , loc='best'\n",
    "                        , fontsize=8)\n",
    "            axis[i].set_yscale(scale_y)\n",
    "            axis[i].set_xscale(scale_x)\n",
    "            #axis[i].set_xlim([-0.025,0.025])\n",
    "            #axis[i].set_ylim([0,200])\n",
    "        plt.savefig(folder + savefile + \",scale_y=\" + scale_y + \",scale_x=\" + scale_x + \".pdf\")\n",
    "        plt.savefig(folder + savefile + \",scale_y=\" + scale_y + \",scale_x=\" + scale_x + \".png\")\n",
    "        plt.show()\n",
    "\n",
    "# sigma_x                    \n",
    "#plot_av_operator_dfs(symm_pbc, \"SigmaX\",columns = [(\"E/L\",0), (\"<n|$S_x$|n>\",1)], distinguishers = [], operator_name = \"<n|$S_x$|n>\") \n",
    "# sigma_x prob dist\n",
    "#plot_av_operator_dfs(symm_pbc, \"ProbDistSigmaX\",columns = [(\"$S^x_{nn}$\", 0), (\"P($S^x_{nn}$)\",1)], distinguishers = [[\"L=18\"],[\"g=2.01\"]], operator_name = \"P($S^x_{nn}$)\", scale_y = 'log', scale_x = 'log', separator = '\\t') \n",
    "# sigma x repulsion\n",
    "plot_av_operator_dfs(symm_pbc, \"ProbDistSpecRapSigmaX\",columns = [(\"$S^x_{nn} - $S^x_{n-1,n-1}$\", 0), (\"P(r)\",1)], distinguishers = [[\"L=19\", \"L=18\"],[\"g=0.81\"], [\"h=1.00\"]], operator_name = \"P(r)\", scale_y = 'linear', separator = '\\t') \n",
    "# energy difference\n",
    "plot_av_operator_dfs(symm_pbc, \"perturbationEnergyDiffDist\",columns = [(\"E-E'\", 0), (\"P(E-E')\",1)], distinguishers = [[\"L=18\"],[\"g=1.00\"], [\"pert=0.0010\"], [\"h=1.00\"]], operator_name = \"P(E-E')\", scale_y = 'log') \n",
    "# operators dist\n",
    "#plot_av_operator_dfs(symm_pbc, \"perturbationOperatorsDist\",columns = [(\"$O_p$ - $O_{p+dp}$\", 0), (\"$P(S_x)$\", 1)], distinguishers = [[\"L=18\"],[\"g=1.00\"], [\"pert=0.0010\"], [\"h=1.00\"]], operator_name = \"$O_p$ - $O_{p+dp}$\", scale_y =\"log\") "
   ]
  },
  {
   "cell_type": "code",
   "execution_count": 68,
   "id": "ac84814e-dd97-4cf0-84f3-e8a05633efa9",
   "metadata": {},
   "outputs": [],
   "source": [
    "# plots columns in one plot\n",
    "def plot_av_operator_cols(directory, file_begin, columns, distinguishers, operator_name, scale_x = \"linear\", scale_y = \"linear\", separator = \"\\t\\t\"):\n",
    "    try:\n",
    "        plt.clf()\n",
    "        plt.cla()\n",
    "        folder = 'plots/' + directory \n",
    "        if not os.path.isdir(folder):\n",
    "            os.makedirs(folder)\n",
    "    except OSError:\n",
    "        print(\"Creation of the directory %s failed\" % (folder))\n",
    "    else:\n",
    "        sns.set_style(\"ticks\")\n",
    "        # find the list of dataframes\n",
    "        listOfDf = handle_all_files(directory, file_begin, columns, distinguishers, separator = separator)\n",
    "        # create number of figures to be plotted\n",
    "        fig, ax = plt.subplots(len(listOfDf), figsize=(12,10), dpi = 100)\n",
    "        \n",
    "        # set labels from our list for parameters \n",
    "        labels = [item[1] for item in listOfDf]\n",
    "        \n",
    "        same_and_diff = findDifferentElementsStrings(labels)\n",
    "        \n",
    "        # set axis for it to always be a list\n",
    "        axis = []\n",
    "        if len(listOfDf) > 1: # if we have many columns to plot\n",
    "            axis = [ax[i] for i in range(len(columns) - 1)]\n",
    "        else:\n",
    "            axis = [ax]\n",
    "        \n",
    "        savefile = file_begin + \"_\" + same_and_diff[0]\n",
    "        # plot \n",
    "        itr = 0\n",
    "        for df in listOfDf:\n",
    "            for col in df[0].columns:\n",
    "                df[0][col].plot(ax = axis[itr]\n",
    "                        , linewidth=0.55\n",
    "                        , marker=next(markers)\n",
    "                        , markersize=2\n",
    "                        , color = next(colors))\n",
    "            itr+=1\n",
    "                \n",
    "        # set the style\n",
    "        for i in range(0, listOfDf):\n",
    "            axis[i].set(title = operator_name + \" with \" +  columns[i+1][0] + \" for \" + same_and_diff[0] + \",\" + same_and_diff[1],\n",
    "                    xlabel = columns[0][0],\n",
    "                    ylabel = operator_name)\n",
    "            if(len(listOfDf) > 1):\n",
    "                axis[i].legend(columns[1:]\n",
    "                        , frameon=False\n",
    "                        , loc='best'\n",
    "                        , fontsize=8)\n",
    "            axis[i].set_yscale(scale_y)\n",
    "            axis[i].set_xscale(scale_x)\n",
    "            #axis[i].set_xlim([-0.025,0.025])\n",
    "            #axis[i].set_ylim([0,200])\n",
    "        plt.savefig(folder + savefile + \",scale_y=\" + scale_y + \",scale_x=\" + scale_x + \".pdf\")\n",
    "        plt.savefig(folder + savefile + \",scale_y=\" + scale_y + \",scale_x=\" + scale_x + \".png\")\n",
    "        plt.show()  "
   ]
  },
  {
   "cell_type": "markdown",
   "id": "0ca04311-6f9e-4eba-b9f5-c444d26bef4c",
   "metadata": {},
   "source": [
    "## Plot only distributions in different files"
   ]
  },
  {
   "cell_type": "code",
   "execution_count": 70,
   "id": "08422308-a8a9-4bea-8af9-638848300620",
   "metadata": {},
   "outputs": [],
   "source": [
    "def plot_distribution(directory, file_begin, columns, distinguishers, distribution_name, column_num = [], separator = \"\\t\\t\"):\n",
    "    try:\n",
    "        folder = 'plots/' + directory \n",
    "        if not os.path.isdir(folder):\n",
    "            os.makedirs(folder)\n",
    "    except OSError:\n",
    "        print(\"Creation of the directory %s failed\" % (folder))\n",
    "    else:\n",
    "        sns.set_style(\"ticks\")\n",
    "        # find the list of dataframes\n",
    "        listOfDf = handle_all_files(directory, file_begin,columns, distinguishers, column_num, separator)\n",
    "        labels = [item[1] for item in listOfDf]\n",
    "        same_and_diff = findDifferentElementsStrings(labels)\n",
    "        \n",
    "        # plot \n",
    "        counter = 0\n",
    "        for df in listOfDf:\n",
    "            savefile = file_begin + \"_\" + same_and_diff[0] + \",\" + labels[counter]\n",
    "            fig, ax = plt.subplots(len(columns) - 1, figsize=(12,8), dpi = 120) \n",
    "            axis = []\n",
    "            if len(columns) > 2: # if we have many columns to plot\n",
    "                axis = [ax[i] for i in range(len(columns) - 1)]\n",
    "            else:\n",
    "                axis = [ax]\n",
    "            \n",
    "            step = 0.01\n",
    "            _min = np.min(df[0].index)\n",
    "            _max = np.max(df[0].index)\n",
    "            new_ticks = [_min + step * i for i in range(0, int((_max-_min)/step) + 1)]\n",
    "            print(new_ticks)\n",
    "            itr = 0\n",
    "            for col in df[0].columns:      \n",
    "\n",
    "                df[0][col].plot.bar(ax = axis[itr], rot=15, color = next(colors))\n",
    "                axis[itr].set(title = distribution_name + \" for \" + same_and_diff[0] + \",\" + same_and_diff[1][counter]\n",
    "                            ,xlabel = col\n",
    "                            ,ylabel = distribution_name)\n",
    "                #axis[itr].get_legend().remove()\n",
    "                #(same_and_diff\n",
    "                #            , frameon=False\n",
    "                #            , loc='best'\n",
    "                #            , fontsize=8)\n",
    "                axis[itr].set_xticks(np.interp(new_ticks, df[0].index, np.arange(df[0].size)))\n",
    "                axis[itr].set_xticklabels(new_ticks)\n",
    "                itr+=1\n",
    "            counter+=1\n",
    "            plt.savefig(folder + savefile + \".pdf\")\n",
    "            plt.savefig(folder + savefile + \".png\")\n",
    "            plt.show()\n",
    "\n",
    "\n",
    "#plot_distribution(symm_pbc, \"ProbDistSpecRapSigmaX\", columns = [\"P(|r|)\", \"<n + 1|$S_x$|n + 1> - <n|$S_x$|n>\"], distinguishers = [], distribution_name= \"P(|r|)\", separator = \"\\t\")"
   ]
  },
  {
   "cell_type": "markdown",
   "id": "003e3eea-5a41-4a33-87fb-ae7c493e828f",
   "metadata": {},
   "source": [
    "# PLOT HEATMAP"
   ]
  },
  {
   "cell_type": "code",
   "execution_count": 46,
   "id": "d40c566d-6ddf-4ca5-aca6-0757a23e222a",
   "metadata": {},
   "outputs": [
    {
     "name": "stderr",
     "output_type": "stream",
     "text": [
      "<ipython-input-42-725a523c0eab>:32: ParserWarning: Falling back to the 'python' engine because the 'c' engine does not support regex separators (separators > 1 char and different from '\\s+' are interpreted as regex); you can avoid this warning by specifying engine='python'.\n",
      "  tmp = pd.read_csv(directory + filename, sep = separator, header=None,skiprows = skip_rows, index_col = 0, names = columns)\n"
     ]
    },
    {
     "name": "stdout",
     "output_type": "stream",
     "text": [
      "(           h     r_goe\n",
      "g                     \n",
      "0.997  0.809  0.522988\n",
      "1.397  0.809  0.518929\n",
      "1.797  0.809  0.461750\n",
      "2.197  0.809  0.428227\n",
      "2.597  0.809  0.430577\n",
      "0.997  1.209  0.528110\n",
      "1.397  1.209  0.525145\n",
      "1.797  1.209  0.508581\n",
      "2.197  1.209  0.474294\n",
      "2.597  1.209  0.448624\n",
      "0.997  1.609  0.530735\n",
      "1.397  1.609  0.529091\n",
      "1.797  1.609  0.517887\n",
      "2.197  1.609  0.485542\n",
      "2.597  1.609  0.451089\n",
      "0.997  2.009  0.529623\n",
      "1.397  2.009  0.524611, 'L=18,k=0,p=1,x=1')\n"
     ]
    },
    {
     "ename": "KeyError",
     "evalue": "0",
     "output_type": "error",
     "traceback": [
      "\u001b[1;31m---------------------------------------------------------------------------\u001b[0m",
      "\u001b[1;31mKeyError\u001b[0m                                  Traceback (most recent call last)",
      "\u001b[1;32mD:\\Programy\\MyAnacondaDont\\lib\\site-packages\\pandas\\core\\indexes\\base.py\u001b[0m in \u001b[0;36mget_loc\u001b[1;34m(self, key, method, tolerance)\u001b[0m\n\u001b[0;32m   3079\u001b[0m             \u001b[1;32mtry\u001b[0m\u001b[1;33m:\u001b[0m\u001b[1;33m\u001b[0m\u001b[1;33m\u001b[0m\u001b[0m\n\u001b[1;32m-> 3080\u001b[1;33m                 \u001b[1;32mreturn\u001b[0m \u001b[0mself\u001b[0m\u001b[1;33m.\u001b[0m\u001b[0m_engine\u001b[0m\u001b[1;33m.\u001b[0m\u001b[0mget_loc\u001b[0m\u001b[1;33m(\u001b[0m\u001b[0mcasted_key\u001b[0m\u001b[1;33m)\u001b[0m\u001b[1;33m\u001b[0m\u001b[1;33m\u001b[0m\u001b[0m\n\u001b[0m\u001b[0;32m   3081\u001b[0m             \u001b[1;32mexcept\u001b[0m \u001b[0mKeyError\u001b[0m \u001b[1;32mas\u001b[0m \u001b[0merr\u001b[0m\u001b[1;33m:\u001b[0m\u001b[1;33m\u001b[0m\u001b[1;33m\u001b[0m\u001b[0m\n",
      "\u001b[1;32mpandas\\_libs\\index.pyx\u001b[0m in \u001b[0;36mpandas._libs.index.IndexEngine.get_loc\u001b[1;34m()\u001b[0m\n",
      "\u001b[1;32mpandas\\_libs\\index.pyx\u001b[0m in \u001b[0;36mpandas._libs.index.IndexEngine.get_loc\u001b[1;34m()\u001b[0m\n",
      "\u001b[1;32mpandas\\_libs\\hashtable_class_helper.pxi\u001b[0m in \u001b[0;36mpandas._libs.hashtable.PyObjectHashTable.get_item\u001b[1;34m()\u001b[0m\n",
      "\u001b[1;32mpandas\\_libs\\hashtable_class_helper.pxi\u001b[0m in \u001b[0;36mpandas._libs.hashtable.PyObjectHashTable.get_item\u001b[1;34m()\u001b[0m\n",
      "\u001b[1;31mKeyError\u001b[0m: 0",
      "\nThe above exception was the direct cause of the following exception:\n",
      "\u001b[1;31mKeyError\u001b[0m                                  Traceback (most recent call last)",
      "\u001b[1;32m<ipython-input-46-fac6fbcd7d20>\u001b[0m in \u001b[0;36m<module>\u001b[1;34m\u001b[0m\n\u001b[0;32m     38\u001b[0m \u001b[1;33m\u001b[0m\u001b[0m\n\u001b[0;32m     39\u001b[0m \u001b[1;31m# ipr parameter sweeep\u001b[0m\u001b[1;33m\u001b[0m\u001b[1;33m\u001b[0m\u001b[1;33m\u001b[0m\u001b[0m\n\u001b[1;32m---> 40\u001b[1;33m \u001b[0mplot_heat_map\u001b[0m\u001b[1;33m(\u001b[0m\u001b[0msymm_pbc\u001b[0m\u001b[1;33m,\u001b[0m \u001b[1;34m\"IprScaling\"\u001b[0m\u001b[1;33m,\u001b[0m\u001b[0mcolumns\u001b[0m \u001b[1;33m=\u001b[0m \u001b[1;33m[\u001b[0m\u001b[1;34m\"g\"\u001b[0m\u001b[1;33m,\u001b[0m \u001b[1;34m\"h\"\u001b[0m\u001b[1;33m,\u001b[0m\u001b[1;34m\"ipr\"\u001b[0m\u001b[1;33m,\u001b[0m\u001b[1;34m\"info_ent\"\u001b[0m\u001b[1;33m,\u001b[0m \u001b[1;34m\"r_goe\"\u001b[0m\u001b[1;33m]\u001b[0m\u001b[1;33m,\u001b[0m \u001b[0mdistinguishers\u001b[0m \u001b[1;33m=\u001b[0m \u001b[1;33m[\u001b[0m\u001b[1;33m[\u001b[0m\u001b[1;34m\"L=18\"\u001b[0m\u001b[1;33m]\u001b[0m\u001b[1;33m]\u001b[0m\u001b[1;33m,\u001b[0m \u001b[0mname\u001b[0m \u001b[1;33m=\u001b[0m \u001b[1;34m\"$r_{goe}$\"\u001b[0m\u001b[1;33m,\u001b[0m \u001b[0mcolumn_num\u001b[0m \u001b[1;33m=\u001b[0m \u001b[1;33m[\u001b[0m\u001b[1;36m0\u001b[0m\u001b[1;33m,\u001b[0m\u001b[1;36m1\u001b[0m\u001b[1;33m,\u001b[0m\u001b[1;36m4\u001b[0m\u001b[1;33m]\u001b[0m\u001b[1;33m)\u001b[0m\u001b[1;33m\u001b[0m\u001b[1;33m\u001b[0m\u001b[0m\n\u001b[0m",
      "\u001b[1;32m<ipython-input-46-fac6fbcd7d20>\u001b[0m in \u001b[0;36mplot_heat_map\u001b[1;34m(directory, file_begin, columns, distinguishers, name, column_num, separator)\u001b[0m\n\u001b[0;32m     22\u001b[0m \u001b[1;33m\u001b[0m\u001b[0m\n\u001b[0;32m     23\u001b[0m             \u001b[0mprint\u001b[0m\u001b[1;33m(\u001b[0m\u001b[0mdf\u001b[0m\u001b[1;33m)\u001b[0m\u001b[1;33m\u001b[0m\u001b[1;33m\u001b[0m\u001b[0m\n\u001b[1;32m---> 24\u001b[1;33m             \u001b[0mpivotted\u001b[0m\u001b[1;33m=\u001b[0m \u001b[0mdf\u001b[0m\u001b[1;33m[\u001b[0m\u001b[1;36m0\u001b[0m\u001b[1;33m]\u001b[0m\u001b[1;33m.\u001b[0m\u001b[0mpivot\u001b[0m\u001b[1;33m(\u001b[0m\u001b[0mcolumn_num\u001b[0m\u001b[1;33m[\u001b[0m\u001b[1;36m0\u001b[0m\u001b[1;33m]\u001b[0m\u001b[1;33m,\u001b[0m \u001b[0mcolumn_num\u001b[0m\u001b[1;33m[\u001b[0m\u001b[1;36m1\u001b[0m\u001b[1;33m]\u001b[0m\u001b[1;33m,\u001b[0m \u001b[0mcolumn_num\u001b[0m\u001b[1;33m[\u001b[0m\u001b[1;36m2\u001b[0m\u001b[1;33m]\u001b[0m\u001b[1;33m)\u001b[0m\u001b[1;33m\u001b[0m\u001b[1;33m\u001b[0m\u001b[0m\n\u001b[0m\u001b[0;32m     25\u001b[0m             \u001b[1;31m# PLOT\u001b[0m\u001b[1;33m\u001b[0m\u001b[1;33m\u001b[0m\u001b[1;33m\u001b[0m\u001b[0m\n\u001b[0;32m     26\u001b[0m             \u001b[0ma\u001b[0m \u001b[1;33m=\u001b[0m \u001b[0mtmp\u001b[0m\u001b[1;33m.\u001b[0m\u001b[0miloc\u001b[0m\u001b[1;33m[\u001b[0m\u001b[1;33m:\u001b[0m\u001b[1;33m,\u001b[0m\u001b[0mcolumn_num\u001b[0m\u001b[1;33m[\u001b[0m\u001b[1;36m2\u001b[0m\u001b[1;33m]\u001b[0m\u001b[1;33m]\u001b[0m\u001b[1;33m\u001b[0m\u001b[1;33m\u001b[0m\u001b[0m\n",
      "\u001b[1;32mD:\\Programy\\MyAnacondaDont\\lib\\site-packages\\pandas\\core\\frame.py\u001b[0m in \u001b[0;36mpivot\u001b[1;34m(self, index, columns, values)\u001b[0m\n\u001b[0;32m   6877\u001b[0m         \u001b[1;32mfrom\u001b[0m \u001b[0mpandas\u001b[0m\u001b[1;33m.\u001b[0m\u001b[0mcore\u001b[0m\u001b[1;33m.\u001b[0m\u001b[0mreshape\u001b[0m\u001b[1;33m.\u001b[0m\u001b[0mpivot\u001b[0m \u001b[1;32mimport\u001b[0m \u001b[0mpivot\u001b[0m\u001b[1;33m\u001b[0m\u001b[1;33m\u001b[0m\u001b[0m\n\u001b[0;32m   6878\u001b[0m \u001b[1;33m\u001b[0m\u001b[0m\n\u001b[1;32m-> 6879\u001b[1;33m         \u001b[1;32mreturn\u001b[0m \u001b[0mpivot\u001b[0m\u001b[1;33m(\u001b[0m\u001b[0mself\u001b[0m\u001b[1;33m,\u001b[0m \u001b[0mindex\u001b[0m\u001b[1;33m=\u001b[0m\u001b[0mindex\u001b[0m\u001b[1;33m,\u001b[0m \u001b[0mcolumns\u001b[0m\u001b[1;33m=\u001b[0m\u001b[0mcolumns\u001b[0m\u001b[1;33m,\u001b[0m \u001b[0mvalues\u001b[0m\u001b[1;33m=\u001b[0m\u001b[0mvalues\u001b[0m\u001b[1;33m)\u001b[0m\u001b[1;33m\u001b[0m\u001b[1;33m\u001b[0m\u001b[0m\n\u001b[0m\u001b[0;32m   6880\u001b[0m \u001b[1;33m\u001b[0m\u001b[0m\n\u001b[0;32m   6881\u001b[0m     _shared_docs[\n",
      "\u001b[1;32mD:\\Programy\\MyAnacondaDont\\lib\\site-packages\\pandas\\core\\reshape\\pivot.py\u001b[0m in \u001b[0;36mpivot\u001b[1;34m(data, index, columns, values)\u001b[0m\n\u001b[0;32m    445\u001b[0m         \u001b[1;32melse\u001b[0m\u001b[1;33m:\u001b[0m\u001b[1;33m\u001b[0m\u001b[1;33m\u001b[0m\u001b[0m\n\u001b[0;32m    446\u001b[0m             \u001b[0mindex\u001b[0m \u001b[1;33m=\u001b[0m \u001b[0mcom\u001b[0m\u001b[1;33m.\u001b[0m\u001b[0mconvert_to_list_like\u001b[0m\u001b[1;33m(\u001b[0m\u001b[0mindex\u001b[0m\u001b[1;33m)\u001b[0m\u001b[1;33m\u001b[0m\u001b[1;33m\u001b[0m\u001b[0m\n\u001b[1;32m--> 447\u001b[1;33m             \u001b[0mindex\u001b[0m \u001b[1;33m=\u001b[0m \u001b[1;33m[\u001b[0m\u001b[0mdata\u001b[0m\u001b[1;33m[\u001b[0m\u001b[0midx\u001b[0m\u001b[1;33m]\u001b[0m \u001b[1;32mfor\u001b[0m \u001b[0midx\u001b[0m \u001b[1;32min\u001b[0m \u001b[0mindex\u001b[0m\u001b[1;33m]\u001b[0m\u001b[1;33m\u001b[0m\u001b[1;33m\u001b[0m\u001b[0m\n\u001b[0m\u001b[0;32m    448\u001b[0m \u001b[1;33m\u001b[0m\u001b[0m\n\u001b[0;32m    449\u001b[0m         \u001b[0mdata_columns\u001b[0m \u001b[1;33m=\u001b[0m \u001b[1;33m[\u001b[0m\u001b[0mdata\u001b[0m\u001b[1;33m[\u001b[0m\u001b[0mcol\u001b[0m\u001b[1;33m]\u001b[0m \u001b[1;32mfor\u001b[0m \u001b[0mcol\u001b[0m \u001b[1;32min\u001b[0m \u001b[0mcolumns\u001b[0m\u001b[1;33m]\u001b[0m\u001b[1;33m\u001b[0m\u001b[1;33m\u001b[0m\u001b[0m\n",
      "\u001b[1;32mD:\\Programy\\MyAnacondaDont\\lib\\site-packages\\pandas\\core\\reshape\\pivot.py\u001b[0m in \u001b[0;36m<listcomp>\u001b[1;34m(.0)\u001b[0m\n\u001b[0;32m    445\u001b[0m         \u001b[1;32melse\u001b[0m\u001b[1;33m:\u001b[0m\u001b[1;33m\u001b[0m\u001b[1;33m\u001b[0m\u001b[0m\n\u001b[0;32m    446\u001b[0m             \u001b[0mindex\u001b[0m \u001b[1;33m=\u001b[0m \u001b[0mcom\u001b[0m\u001b[1;33m.\u001b[0m\u001b[0mconvert_to_list_like\u001b[0m\u001b[1;33m(\u001b[0m\u001b[0mindex\u001b[0m\u001b[1;33m)\u001b[0m\u001b[1;33m\u001b[0m\u001b[1;33m\u001b[0m\u001b[0m\n\u001b[1;32m--> 447\u001b[1;33m             \u001b[0mindex\u001b[0m \u001b[1;33m=\u001b[0m \u001b[1;33m[\u001b[0m\u001b[0mdata\u001b[0m\u001b[1;33m[\u001b[0m\u001b[0midx\u001b[0m\u001b[1;33m]\u001b[0m \u001b[1;32mfor\u001b[0m \u001b[0midx\u001b[0m \u001b[1;32min\u001b[0m \u001b[0mindex\u001b[0m\u001b[1;33m]\u001b[0m\u001b[1;33m\u001b[0m\u001b[1;33m\u001b[0m\u001b[0m\n\u001b[0m\u001b[0;32m    448\u001b[0m \u001b[1;33m\u001b[0m\u001b[0m\n\u001b[0;32m    449\u001b[0m         \u001b[0mdata_columns\u001b[0m \u001b[1;33m=\u001b[0m \u001b[1;33m[\u001b[0m\u001b[0mdata\u001b[0m\u001b[1;33m[\u001b[0m\u001b[0mcol\u001b[0m\u001b[1;33m]\u001b[0m \u001b[1;32mfor\u001b[0m \u001b[0mcol\u001b[0m \u001b[1;32min\u001b[0m \u001b[0mcolumns\u001b[0m\u001b[1;33m]\u001b[0m\u001b[1;33m\u001b[0m\u001b[1;33m\u001b[0m\u001b[0m\n",
      "\u001b[1;32mD:\\Programy\\MyAnacondaDont\\lib\\site-packages\\pandas\\core\\frame.py\u001b[0m in \u001b[0;36m__getitem__\u001b[1;34m(self, key)\u001b[0m\n\u001b[0;32m   3022\u001b[0m             \u001b[1;32mif\u001b[0m \u001b[0mself\u001b[0m\u001b[1;33m.\u001b[0m\u001b[0mcolumns\u001b[0m\u001b[1;33m.\u001b[0m\u001b[0mnlevels\u001b[0m \u001b[1;33m>\u001b[0m \u001b[1;36m1\u001b[0m\u001b[1;33m:\u001b[0m\u001b[1;33m\u001b[0m\u001b[1;33m\u001b[0m\u001b[0m\n\u001b[0;32m   3023\u001b[0m                 \u001b[1;32mreturn\u001b[0m \u001b[0mself\u001b[0m\u001b[1;33m.\u001b[0m\u001b[0m_getitem_multilevel\u001b[0m\u001b[1;33m(\u001b[0m\u001b[0mkey\u001b[0m\u001b[1;33m)\u001b[0m\u001b[1;33m\u001b[0m\u001b[1;33m\u001b[0m\u001b[0m\n\u001b[1;32m-> 3024\u001b[1;33m             \u001b[0mindexer\u001b[0m \u001b[1;33m=\u001b[0m \u001b[0mself\u001b[0m\u001b[1;33m.\u001b[0m\u001b[0mcolumns\u001b[0m\u001b[1;33m.\u001b[0m\u001b[0mget_loc\u001b[0m\u001b[1;33m(\u001b[0m\u001b[0mkey\u001b[0m\u001b[1;33m)\u001b[0m\u001b[1;33m\u001b[0m\u001b[1;33m\u001b[0m\u001b[0m\n\u001b[0m\u001b[0;32m   3025\u001b[0m             \u001b[1;32mif\u001b[0m \u001b[0mis_integer\u001b[0m\u001b[1;33m(\u001b[0m\u001b[0mindexer\u001b[0m\u001b[1;33m)\u001b[0m\u001b[1;33m:\u001b[0m\u001b[1;33m\u001b[0m\u001b[1;33m\u001b[0m\u001b[0m\n\u001b[0;32m   3026\u001b[0m                 \u001b[0mindexer\u001b[0m \u001b[1;33m=\u001b[0m \u001b[1;33m[\u001b[0m\u001b[0mindexer\u001b[0m\u001b[1;33m]\u001b[0m\u001b[1;33m\u001b[0m\u001b[1;33m\u001b[0m\u001b[0m\n",
      "\u001b[1;32mD:\\Programy\\MyAnacondaDont\\lib\\site-packages\\pandas\\core\\indexes\\base.py\u001b[0m in \u001b[0;36mget_loc\u001b[1;34m(self, key, method, tolerance)\u001b[0m\n\u001b[0;32m   3080\u001b[0m                 \u001b[1;32mreturn\u001b[0m \u001b[0mself\u001b[0m\u001b[1;33m.\u001b[0m\u001b[0m_engine\u001b[0m\u001b[1;33m.\u001b[0m\u001b[0mget_loc\u001b[0m\u001b[1;33m(\u001b[0m\u001b[0mcasted_key\u001b[0m\u001b[1;33m)\u001b[0m\u001b[1;33m\u001b[0m\u001b[1;33m\u001b[0m\u001b[0m\n\u001b[0;32m   3081\u001b[0m             \u001b[1;32mexcept\u001b[0m \u001b[0mKeyError\u001b[0m \u001b[1;32mas\u001b[0m \u001b[0merr\u001b[0m\u001b[1;33m:\u001b[0m\u001b[1;33m\u001b[0m\u001b[1;33m\u001b[0m\u001b[0m\n\u001b[1;32m-> 3082\u001b[1;33m                 \u001b[1;32mraise\u001b[0m \u001b[0mKeyError\u001b[0m\u001b[1;33m(\u001b[0m\u001b[0mkey\u001b[0m\u001b[1;33m)\u001b[0m \u001b[1;32mfrom\u001b[0m \u001b[0merr\u001b[0m\u001b[1;33m\u001b[0m\u001b[1;33m\u001b[0m\u001b[0m\n\u001b[0m\u001b[0;32m   3083\u001b[0m \u001b[1;33m\u001b[0m\u001b[0m\n\u001b[0;32m   3084\u001b[0m         \u001b[1;32mif\u001b[0m \u001b[0mtolerance\u001b[0m \u001b[1;32mis\u001b[0m \u001b[1;32mnot\u001b[0m \u001b[1;32mNone\u001b[0m\u001b[1;33m:\u001b[0m\u001b[1;33m\u001b[0m\u001b[1;33m\u001b[0m\u001b[0m\n",
      "\u001b[1;31mKeyError\u001b[0m: 0"
     ]
    },
    {
     "data": {
      "image/png": "[encoded data removed]",
      "text/plain": [
       "<Figure size 1200x1000 with 1 Axes>"
      ]
     },
     "metadata": {},
     "output_type": "display_data"
    },
    {
     "data": {
      "image/png": "[encoded data removed]",
      "text/plain": [
       "<Figure size 1440x960 with 1 Axes>"
      ]
     },
     "metadata": {},
     "output_type": "display_data"
    }
   ],
   "source": [
    "def plot_heat_map(directory, file_begin, columns, distinguishers, name, column_num = [0,1,2], separator = \"\\t\\t\"):\n",
    "    try:\n",
    "        folder = 'plots/' + directory \n",
    "        if not os.path.isdir(folder):\n",
    "            os.makedirs(folder)\n",
    "    except OSError:\n",
    "        print(\"Creation of the directory %s failed\" % (folder))\n",
    "    else:\n",
    "        sns.set_style(\"ticks\")\n",
    "        \n",
    "        listOfDf = handle_all_files(directory, file_begin,columns, distinguishers, column_num, separator = separator)\n",
    "        fig, ax = plt.subplots(len(listOfDf), figsize=(12,10), dpi = 100)\n",
    "        \n",
    "        labels = [item[1] for item in listOfDf]\n",
    "        same_and_diff = findDifferentElementsStrings(labels)\n",
    "        \n",
    "        # plot \n",
    "        counter = 0\n",
    "        for df in listOfDf:\n",
    "            savefile = file_begin + \"_\" + same_and_diff[0] + \",\" + labels[counter]\n",
    "            fig, ax = plt.subplots(figsize=(12,8), dpi = 120) \n",
    "            \n",
    "            print(df)\n",
    "            pivotted= df[0].pivot(column_num[0], column_num[1], column_num[2])\n",
    "            # PLOT \n",
    "            a = tmp.iloc[:,column_num[2]]\n",
    "            sns.heatmap(pivotted,cmap='coolwarm',vmin=np.min(a), vmax=np.max(a))\n",
    "            if(len(columns) == 3):\n",
    "                plt.xlabel(columns[0])\n",
    "                plt.ylabel(columns[1])\n",
    "            plt.title(name + labels[counter])\n",
    "            plt.savefig(folder + savefile + \".png\")\n",
    "            plt.show()\n",
    "            counter +=1\n",
    "    \n",
    "                  \n",
    "\n",
    "\n",
    "# ipr parameter sweeep\n",
    "plot_heat_map(symm_pbc, \"IprScaling\",columns = [\"g\", \"h\",\"ipr\",\"info_ent\", \"r_goe\"], distinguishers = [[\"L=18\"]], name = \"$r_{goe}$\", column_num = [0,1,4]) "
   ]
  },
  {
   "cell_type": "code",
   "execution_count": null,
   "id": "1cd8192e-06a6-4aa9-8955-03d3fc3885fc",
   "metadata": {},
   "outputs": [],
   "source": []
  },
  {
   "cell_type": "code",
   "execution_count": null,
   "id": "1c89b0c4-3fee-4a40-b144-f99f110236b9",
   "metadata": {},
   "outputs": [],
   "source": []
  },
  {
   "cell_type": "code",
   "execution_count": null,
   "id": "73547c54-f0b3-4201-8229-ce866a6aad5d",
   "metadata": {},
   "outputs": [],
   "source": []
  },
  {
   "cell_type": "code",
   "execution_count": null,
   "id": "25943d8c-990d-41ac-8594-f3c46ec46639",
   "metadata": {},
   "outputs": [],
   "source": []
  },
  {
   "cell_type": "code",
   "execution_count": null,
   "id": "2fa39582-2089-4549-9651-3f6692631880",
   "metadata": {},
   "outputs": [],
   "source": []
  },
  {
   "cell_type": "code",
   "execution_count": 66,
   "id": "c6645a81-0275-4e69-b6ad-d2a617f2f65e",
   "metadata": {},
   "outputs": [
    {
     "ename": "NameError",
     "evalue": "name 'directory' is not defined",
     "output_type": "error",
     "traceback": [
      "\u001b[1;31m---------------------------------------------------------------------------\u001b[0m",
      "\u001b[1;31mNameError\u001b[0m                                 Traceback (most recent call last)",
      "\u001b[1;32m<ipython-input-66-5f0eab9d70cb>\u001b[0m in \u001b[0;36m<module>\u001b[1;34m\u001b[0m\n\u001b[0;32m     39\u001b[0m     \u001b[0mplt\u001b[0m\u001b[1;33m.\u001b[0m\u001b[0mshow\u001b[0m\u001b[1;33m(\u001b[0m\u001b[1;33m)\u001b[0m\u001b[1;33m\u001b[0m\u001b[1;33m\u001b[0m\u001b[0m\n\u001b[0;32m     40\u001b[0m \u001b[1;33m\u001b[0m\u001b[0m\n\u001b[1;32m---> 41\u001b[1;33m \u001b[0mplotKurtosisFromDF\u001b[0m\u001b[1;33m(\u001b[0m\u001b[0mdirectory\u001b[0m \u001b[1;33m+\u001b[0m \u001b[1;34m\"./\"\u001b[0m\u001b[1;33m,\u001b[0m \u001b[1;34m\"ProbDistSigmaX\"\u001b[0m\u001b[1;33m,\u001b[0m \u001b[1;34m\"w\"\u001b[0m\u001b[1;33m,\u001b[0m \u001b[1;33m[\u001b[0m\u001b[1;36m12\u001b[0m\u001b[1;33m]\u001b[0m\u001b[1;33m)\u001b[0m\u001b[1;33m\u001b[0m\u001b[1;33m\u001b[0m\u001b[0m\n\u001b[0m",
      "\u001b[1;31mNameError\u001b[0m: name 'directory' is not defined"
     ]
    }
   ],
   "source": [
    "def plotKurtosisFromDF(directory,name_of_file_start, x_distinguisher, Ls):\n",
    "    \n",
    "    fig, ax = plt.subplots(figsize=(15,15))\n",
    "    labels = []\n",
    "    for L in Ls:\n",
    "        pd = filesToDataFrame(directory, name_of_file_start, L, x_distinguisher)\n",
    "        values = []\n",
    "        kurto = []\n",
    "        if not pd.empty:\n",
    "            labels.append(\"L=\" + str(L))\n",
    "                     \n",
    "            kurtos = pd.kurtosis(axis = 0)\n",
    "            #print(kurtos)\n",
    "            kurto = [a for a in kurtos]\n",
    "            values = [float(x.split(\"=\")[-1]) for x in kurtos.index]                 # list of possible x_disting values\n",
    "            #print(kurto)\n",
    "            #print(values)\n",
    "            # print(len(kurto))\n",
    "            # print(len(values))\n",
    "            order = np.argsort(values)\n",
    "            \n",
    "            \n",
    "            ax.plot(np.array(values)[order], np.array(kurto)[order],\n",
    "                    linewidth = 1.5,\n",
    "                    marker = next(markers),\n",
    "                    markersize = 4\n",
    "                )\n",
    "    #print(labels)       \n",
    "    ax.set(title = \"kurtosis of $\\sigma _x$ probability distribution\"\n",
    "    , xlabel = x_distinguisher\n",
    "    , ylabel = \"kurtosis(P($\\sigma _x$))\")\n",
    "    ax.legend(labels\n",
    "      , frameon=False\n",
    "      , loc='best'\n",
    "      , fontsize=8)\n",
    "    ax.set_xlim([0,4.5])\n",
    "    #ax.set_ylim([0,4])\n",
    "    plt.savefig(directory + \"kurtosis_\" + name_of_file_start + \".png\")\n",
    "    plt.show()\n",
    "\n",
    "plotKurtosisFromDF(directory + \"./\", \"ProbDistSigmaX\", \"w\", [12])"
   ]
  },
  {
   "cell_type": "code",
   "execution_count": 67,
   "id": "5eae0cec-3e53-4d45-980e-9d279dac0a1f",
   "metadata": {},
   "outputs": [
    {
     "ename": "NameError",
     "evalue": "name 'directory' is not defined",
     "output_type": "error",
     "traceback": [
      "\u001b[1;31m---------------------------------------------------------------------------\u001b[0m",
      "\u001b[1;31mNameError\u001b[0m                                 Traceback (most recent call last)",
      "\u001b[1;32m<ipython-input-67-c6149b8d4d98>\u001b[0m in \u001b[0;36m<module>\u001b[1;34m\u001b[0m\n\u001b[0;32m     47\u001b[0m     \u001b[0mplt\u001b[0m\u001b[1;33m.\u001b[0m\u001b[0mshow\u001b[0m\u001b[1;33m(\u001b[0m\u001b[1;33m)\u001b[0m\u001b[1;33m\u001b[0m\u001b[1;33m\u001b[0m\u001b[0m\n\u001b[0;32m     48\u001b[0m \u001b[1;33m\u001b[0m\u001b[0m\n\u001b[1;32m---> 49\u001b[1;33m \u001b[0mplotBinderFromDF\u001b[0m\u001b[1;33m(\u001b[0m\u001b[0mdirectory\u001b[0m \u001b[1;33m+\u001b[0m \u001b[1;34m\"./\"\u001b[0m\u001b[1;33m,\u001b[0m \u001b[1;34m\"ProbDistSigmaX\"\u001b[0m\u001b[1;33m,\u001b[0m \u001b[1;34m\"w\"\u001b[0m\u001b[1;33m,\u001b[0m \u001b[1;33m[\u001b[0m\u001b[1;36m12\u001b[0m\u001b[1;33m]\u001b[0m\u001b[1;33m)\u001b[0m\u001b[1;33m\u001b[0m\u001b[1;33m\u001b[0m\u001b[0m\n\u001b[0m",
      "\u001b[1;31mNameError\u001b[0m: name 'directory' is not defined"
     ]
    }
   ],
   "source": [
    "def plotBinderFromDF(directory,name_of_file_start, x_distinguisher, Ls):\n",
    "    \n",
    "    fig, ax = plt.subplots(figsize=(15,15))\n",
    "    labels = []\n",
    "    for L in Ls:\n",
    "        pd = filesToDataFrame(directory, name_of_file_start, L, x_distinguisher)\n",
    "        values = []\n",
    "        binder = []\n",
    "        if not pd.empty:\n",
    "            labels.append(\"L=\" + str(L))\n",
    "            \n",
    "            square_pd = pd.apply(np.square, axis =1)\n",
    "            fourth_pd=square_pd.apply(np.square, axis = 1)\n",
    "            \n",
    "            #print(square_pd)\n",
    "            \n",
    "            fourth_mean = [fourth_pd[a].mean() for a in fourth_pd.columns]\n",
    "            square_mean = [square_pd[a].mean() for a in square_pd.columns]\n",
    "\n",
    "            \n",
    "            for i in range(len(square_mean)):\n",
    "                binder.append(1 - fourth_mean[i]/(3*square_mean[i]))\n",
    "            ##print(binder)\n",
    "            values = [float(x.split(\"=\")[-1]) for x in pd.columns]                 # list of possible x_disting values\n",
    "            \n",
    "            order = np.argsort(values)\n",
    "            #print(kurto)\n",
    "            #print(values)\n",
    "            # print(len(kurto))\n",
    "            # print(len(values))\n",
    "            ax.plot(np.array(values)[order], np.array(binder)[order],\n",
    "                    linewidth = 1.5,\n",
    "                    marker = next(markers),\n",
    "                    markersize = 4\n",
    "            )\n",
    "    #print(labels)       \n",
    "    ax.set(title = \"Binder cumulant of $\\sigma _x$ probability distribution\"\n",
    "    , xlabel = x_distinguisher\n",
    "    , ylabel = \"U(P($\\sigma _x$))\")\n",
    "    ax.legend(labels\n",
    "      , frameon=False\n",
    "      , loc='best'\n",
    "      , fontsize=8)\n",
    "    ax.set_xlim([-0,4.5])\n",
    "    #ax.set_ylim([-80,10])\n",
    "    plt.savefig(directory + \"BinderCumulant_\" + name_of_file_start + \".png\")\n",
    "    plt.show()\n",
    "\n",
    "plotBinderFromDF(directory + \"./\", \"ProbDistSigmaX\", \"w\", [12])"
   ]
  },
  {
   "cell_type": "code",
   "execution_count": null,
   "id": "b52d37cb-be13-4aab-aa22-6c7bf45e5953",
   "metadata": {},
   "outputs": [],
   "source": []
  }
 ],
 "metadata": {
  "kernelspec": {
   "display_name": "Python 3",
   "language": "python",
   "name": "python3"
  },
  "language_info": {
   "codemirror_mode": {
    "name": "ipython",
    "version": 3
   },
   "file_extension": ".py",
   "mimetype": "text/x-python",
   "name": "python",
   "nbconvert_exporter": "python",
   "pygments_lexer": "ipython3",
   "version": "3.8.8"
  }
 },
 "nbformat": 4,
 "nbformat_minor": 5
}
