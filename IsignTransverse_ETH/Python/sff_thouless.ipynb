{
 "cells": [
  {
   "cell_type": "markdown",
   "id": "d8db65ed",
   "metadata": {},
   "source": [
    "# LIBS"
   ]
  },
  {
   "cell_type": "code",
   "execution_count": 72,
   "id": "c78a5568",
   "metadata": {},
   "outputs": [
    {
     "name": "stdout",
     "output_type": "stream",
     "text": [
      "../results/Heisenberg/disorder/PBC/\n"
     ]
    }
   ],
   "source": [
    "#import user modules\n",
    "import utils.helper_functions as hfun\n",
    "import config as cf\n",
    "import thouless_times as thouless\n",
    "import importlib\n",
    "importlib.reload(thouless)\n",
    "importlib.reload(hfun)\n",
    "importlib.reload(cf)\n",
    "\n",
    "#--- importet in user module\n",
    "import matplotlib.pyplot as plt\n",
    "import matplotlib\n",
    "from matplotlib.markers import MarkerStyle\n",
    "import os\n",
    "from utils import exit\n",
    "\n",
    "#--- other modules\n",
    "import numpy as np\n",
    "import itertools\n",
    "import seaborn as sns\n",
    "import pandas as pd\n",
    "import math\n",
    "import random\n",
    "import imageio\n",
    "import scipy.stats as stats\n",
    "import warnings\n",
    "warnings.filterwarnings('ignore')\n",
    "%matplotlib inline\n",
    "from scipy.optimize import curve_fit\n",
    "from joblib import Parallel, delayed\n",
    "#plt.style.use(['science','ieee','no-latex'])\n",
    "\n",
    "# get all the colors\n",
    "import matplotlib.colors as mcolors\n",
    "\n",
    "print(cf.base_directory)\n"
   ]
  },
  {
   "cell_type": "markdown",
   "id": "2dab3021",
   "metadata": {},
   "source": [
    "# MODEL INPUT AND OTHER INFO"
   ]
  },
  {
   "cell_type": "code",
   "execution_count": 73,
   "id": "cf55f150",
   "metadata": {},
   "outputs": [
    {
     "name": "stdout",
     "output_type": "stream",
     "text": [
      "_L=16,J=1.00,J0=0.00,g=0.55,g0=0.00,h=0.00,w=0.70.dat\n",
      ",J=1.00,J0=0.00,g0=0.00,h=0.00\n",
      "L=16\n",
      "J=1.00\n",
      "g=0.55\n",
      "h=0.00\n",
      "w=0.70\n",
      "k=0\n",
      "p=1\n",
      "x=1\n",
      "J0=0.00\n",
      "x0=0.00\n"
     ]
    }
   ],
   "source": [
    "base_info = hfun.info(cf.L, cf.J, cf.J0, cf.g, cf.g0, cf.h, cf.w, cf.k_sym, cf.p_sym, cf.x_sym)\n",
    "print(base_info)\n",
    "print(hfun.remove_info(base_info, 'g', 'w', 'L'))\n",
    "hfun.print_vars(cf.params_arr, cf.names)\n"
   ]
  },
  {
   "cell_type": "markdown",
   "id": "83c80673",
   "metadata": {},
   "source": [
    "# SPECTRAL FORM FACTOR"
   ]
  },
  {
   "cell_type": "code",
   "execution_count": null,
   "id": "4754423e",
   "metadata": {},
   "outputs": [],
   "source": []
  },
  {
   "cell_type": "markdown",
   "id": "2773cee5",
   "metadata": {},
   "source": [
    "# THOULESS TIME"
   ]
  },
  {
   "cell_type": "markdown",
   "id": "c8dacc15",
   "metadata": {},
   "source": [
    "### PLOT DATA"
   ]
  },
  {
   "cell_type": "code",
   "execution_count": 76,
   "id": "6cf971b1",
   "metadata": {},
   "outputs": [
    {
     "name": "stdout",
     "output_type": "stream",
     "text": [
      "[12 14 16 18]\n"
     ]
    },
    {
     "name": "stderr",
     "output_type": "stream",
     "text": [
      "Process SpawnPoolWorker-207:\n",
      "Process SpawnPoolWorker-202:\n",
      "Process SpawnPoolWorker-209:\n",
      "Process SpawnPoolWorker-204:\n",
      "Traceback (most recent call last):\n",
      "  File \"/Users/rafal.swietek/opt/anaconda3/lib/python3.9/multiprocessing/process.py\", line 315, in _bootstrap\n",
      "    self.run()\n",
      "  File \"/Users/rafal.swietek/opt/anaconda3/lib/python3.9/multiprocessing/process.py\", line 108, in run\n",
      "    self._target(*self._args, **self._kwargs)\n",
      "  File \"/Users/rafal.swietek/opt/anaconda3/lib/python3.9/multiprocessing/pool.py\", line 114, in worker\n",
      "    task = get()\n",
      "  File \"/Users/rafal.swietek/opt/anaconda3/lib/python3.9/multiprocessing/queues.py\", line 365, in get\n",
      "    with self._rlock:\n",
      "  File \"/Users/rafal.swietek/opt/anaconda3/lib/python3.9/multiprocessing/synchronize.py\", line 95, in __enter__\n",
      "    return self._semlock.__enter__()\n",
      "KeyboardInterrupt\n"
     ]
    },
    {
     "ename": "KeyboardInterrupt",
     "evalue": "",
     "output_type": "error",
     "traceback": [
      "\u001b[0;31m---------------------------------------------------------------------------\u001b[0m",
      "\u001b[0;31mKeyboardInterrupt\u001b[0m                         Traceback (most recent call last)",
      "\u001b[0;32m/var/folders/t3/skdqbg9n6xv_tddvn5qy_zzr0000gn/T/ipykernel_8384/1486876887.py\u001b[0m in \u001b[0;36m<module>\u001b[0;34m\u001b[0m\n\u001b[1;32m      4\u001b[0m     \u001b[0mfig\u001b[0m\u001b[0;34m,\u001b[0m \u001b[0;34m(\u001b[0m\u001b[0maxis1\u001b[0m\u001b[0;34m,\u001b[0m \u001b[0maxis2\u001b[0m\u001b[0;34m)\u001b[0m \u001b[0;34m=\u001b[0m \u001b[0mplt\u001b[0m\u001b[0;34m.\u001b[0m\u001b[0msubplots\u001b[0m\u001b[0;34m(\u001b[0m\u001b[0mnrows\u001b[0m\u001b[0;34m=\u001b[0m\u001b[0;36m1\u001b[0m\u001b[0;34m,\u001b[0m\u001b[0mncols\u001b[0m\u001b[0;34m=\u001b[0m\u001b[0;36m2\u001b[0m\u001b[0;34m,\u001b[0m\u001b[0mfigsize\u001b[0m\u001b[0;34m=\u001b[0m\u001b[0;34m(\u001b[0m\u001b[0;36m12\u001b[0m\u001b[0;34m,\u001b[0m\u001b[0;36m6\u001b[0m\u001b[0;34m)\u001b[0m\u001b[0;34m,\u001b[0m \u001b[0mdpi\u001b[0m \u001b[0;34m=\u001b[0m \u001b[0;36m100\u001b[0m\u001b[0;34m)\u001b[0m\u001b[0;34m\u001b[0m\u001b[0;34m\u001b[0m\u001b[0m\n\u001b[1;32m      5\u001b[0m \u001b[0;34m\u001b[0m\u001b[0m\n\u001b[0;32m----> 6\u001b[0;31m     \u001b[0mthouless\u001b[0m\u001b[0;34m.\u001b[0m\u001b[0mplot_with_gap_ratio\u001b[0m\u001b[0;34m(\u001b[0m\u001b[0maxis1\u001b[0m\u001b[0;34m=\u001b[0m\u001b[0maxis1\u001b[0m\u001b[0;34m,\u001b[0m \u001b[0maxis2\u001b[0m\u001b[0;34m=\u001b[0m\u001b[0maxis2\u001b[0m\u001b[0;34m,\u001b[0m \u001b[0muse_scaling_ansatz\u001b[0m\u001b[0;34m=\u001b[0m\u001b[0;36m1\u001b[0m\u001b[0;34m,\u001b[0m \u001b[0mscaling_ansatz\u001b[0m\u001b[0;34m=\u001b[0m\u001b[0;34m'RG'\u001b[0m\u001b[0;34m,\u001b[0m \u001b[0mcrit_fun\u001b[0m\u001b[0;34m=\u001b[0m\u001b[0;34m'free'\u001b[0m\u001b[0;34m)\u001b[0m\u001b[0;34m\u001b[0m\u001b[0;34m\u001b[0m\u001b[0m\n\u001b[0m\u001b[1;32m      7\u001b[0m \u001b[0;34m\u001b[0m\u001b[0m\n\u001b[1;32m      8\u001b[0m     \u001b[0mx\u001b[0m \u001b[0;34m=\u001b[0m \u001b[0mnp\u001b[0m\u001b[0;34m.\u001b[0m\u001b[0marray\u001b[0m\u001b[0;34m(\u001b[0m\u001b[0mrange\u001b[0m\u001b[0;34m(\u001b[0m\u001b[0;34m-\u001b[0m\u001b[0;36m10000\u001b[0m\u001b[0;34m,\u001b[0m \u001b[0;36m10000\u001b[0m\u001b[0;34m)\u001b[0m\u001b[0;34m)\u001b[0m \u001b[0;34m/\u001b[0m \u001b[0;36m100.\u001b[0m\u001b[0;34m\u001b[0m\u001b[0;34m\u001b[0m\u001b[0m\n",
      "\u001b[0;32m~/Projects/Transverse_Ising_ETH/IsignTransverse_ETH/Python/thouless_times.py\u001b[0m in \u001b[0;36mplot_with_gap_ratio\u001b[0;34m(axis1, axis2, new_settings, use_scaling_ansatz, scaling_ansatz, crit_fun)\u001b[0m\n\u001b[1;32m    229\u001b[0m     \u001b[0mcrit_pars\u001b[0m \u001b[0;34m=\u001b[0m \u001b[0mparams\u001b[0m\u001b[0;34m[\u001b[0m\u001b[0;36m1\u001b[0m\u001b[0;34m:\u001b[0m\u001b[0;34m]\u001b[0m\u001b[0;34m\u001b[0m\u001b[0;34m\u001b[0m\u001b[0m\n\u001b[1;32m    230\u001b[0m     \u001b[0;32mif\u001b[0m \u001b[0mnew_settings\u001b[0m\u001b[0;34m[\u001b[0m\u001b[0;34m'scaling_idx'\u001b[0m\u001b[0;34m]\u001b[0m \u001b[0;34m==\u001b[0m \u001b[0;36m0\u001b[0m \u001b[0;32mand\u001b[0m \u001b[0muse_scaling_ansatz\u001b[0m\u001b[0;34m:\u001b[0m\u001b[0;34m\u001b[0m\u001b[0;34m\u001b[0m\u001b[0m\n\u001b[0;32m--> 231\u001b[0;31m         par, crit_pars, cost_fun, status = cost.get_crit_points(x=xvals,\n\u001b[0m\u001b[1;32m    232\u001b[0m                                                                 \u001b[0my\u001b[0m\u001b[0;34m=\u001b[0m\u001b[0mgap_ratio\u001b[0m\u001b[0;34m,\u001b[0m\u001b[0;34m\u001b[0m\u001b[0;34m\u001b[0m\u001b[0m\n\u001b[1;32m    233\u001b[0m                                                                 \u001b[0mvals\u001b[0m\u001b[0;34m=\u001b[0m\u001b[0mvals\u001b[0m\u001b[0;34m,\u001b[0m\u001b[0;34m\u001b[0m\u001b[0;34m\u001b[0m\u001b[0m\n",
      "\u001b[0;32m~/Projects/Transverse_Ising_ETH/IsignTransverse_ETH/Python/costfun/costfun.py\u001b[0m in \u001b[0;36mget_crit_points\u001b[0;34m(x, y, vals, crit_fun, scaling_ansatz, seed)\u001b[0m\n\u001b[1;32m    246\u001b[0m     \u001b[0mbounds\u001b[0m \u001b[0;34m=\u001b[0m \u001b[0mprepare_bounds\u001b[0m\u001b[0;34m(\u001b[0m\u001b[0mx\u001b[0m\u001b[0;34m,\u001b[0m \u001b[0mcrit_fun\u001b[0m\u001b[0;34m,\u001b[0m \u001b[0mvals\u001b[0m\u001b[0;34m)\u001b[0m\u001b[0;34m\u001b[0m\u001b[0;34m\u001b[0m\u001b[0m\n\u001b[1;32m    247\u001b[0m \u001b[0;34m\u001b[0m\u001b[0m\n\u001b[0;32m--> 248\u001b[0;31m     params, cost_fun, status = cost_func_minization(x=x, y=y, sizes=vals,\n\u001b[0m\u001b[1;32m    249\u001b[0m                                     \u001b[0mscale_func\u001b[0m\u001b[0;34m=\u001b[0m\u001b[0mscaling_ansatz\u001b[0m\u001b[0;34m,\u001b[0m\u001b[0;34m\u001b[0m\u001b[0;34m\u001b[0m\u001b[0m\n\u001b[1;32m    250\u001b[0m                                     \u001b[0mcrit_func\u001b[0m\u001b[0;34m=\u001b[0m\u001b[0mcrit_fun\u001b[0m\u001b[0;34m,\u001b[0m\u001b[0;34m\u001b[0m\u001b[0;34m\u001b[0m\u001b[0m\n",
      "\u001b[0;32m~/Projects/Transverse_Ising_ETH/IsignTransverse_ETH/Python/costfun/costfun.py\u001b[0m in \u001b[0;36mcost_func_minization\u001b[0;34m(x, y, sizes, bnds, scale_func, crit_func, population_size, maxiterarions, workers, realisations, seed)\u001b[0m\n\u001b[1;32m    147\u001b[0m \u001b[0;34m\u001b[0m\u001b[0m\n\u001b[1;32m    148\u001b[0m     \u001b[0;32mif\u001b[0m \u001b[0mseed\u001b[0m \u001b[0;32mis\u001b[0m \u001b[0;32mNone\u001b[0m\u001b[0;34m:\u001b[0m \u001b[0mseed\u001b[0m \u001b[0;34m=\u001b[0m \u001b[0mnp\u001b[0m\u001b[0;34m.\u001b[0m\u001b[0mrandom\u001b[0m\u001b[0;34m.\u001b[0m\u001b[0mdefault_rng\u001b[0m\u001b[0;34m(\u001b[0m\u001b[0;34m)\u001b[0m\u001b[0;34m;\u001b[0m\u001b[0;34m\u001b[0m\u001b[0;34m\u001b[0m\u001b[0m\n\u001b[0;32m--> 149\u001b[0;31m     result = differential_evolution(\n\u001b[0m\u001b[1;32m    150\u001b[0m                     \u001b[0mminimization_function\u001b[0m\u001b[0;34m,\u001b[0m\u001b[0;34m\u001b[0m\u001b[0;34m\u001b[0m\u001b[0m\n\u001b[1;32m    151\u001b[0m                     \u001b[0mbounds\u001b[0m\u001b[0;34m=\u001b[0m\u001b[0mbnds\u001b[0m\u001b[0;34m,\u001b[0m\u001b[0;34m\u001b[0m\u001b[0;34m\u001b[0m\u001b[0m\n",
      "\u001b[0;32m~/opt/anaconda3/lib/python3.9/site-packages/scipy/optimize/_differentialevolution.py\u001b[0m in \u001b[0;36mdifferential_evolution\u001b[0;34m(func, bounds, args, strategy, maxiter, popsize, tol, mutation, recombination, seed, callback, disp, polish, init, atol, updating, workers, constraints, x0)\u001b[0m\n\u001b[1;32m    327\u001b[0m                                      \u001b[0mconstraints\u001b[0m\u001b[0;34m=\u001b[0m\u001b[0mconstraints\u001b[0m\u001b[0;34m,\u001b[0m\u001b[0;34m\u001b[0m\u001b[0;34m\u001b[0m\u001b[0m\n\u001b[1;32m    328\u001b[0m                                      x0=x0) as solver:\n\u001b[0;32m--> 329\u001b[0;31m         \u001b[0mret\u001b[0m \u001b[0;34m=\u001b[0m \u001b[0msolver\u001b[0m\u001b[0;34m.\u001b[0m\u001b[0msolve\u001b[0m\u001b[0;34m(\u001b[0m\u001b[0;34m)\u001b[0m\u001b[0;34m\u001b[0m\u001b[0;34m\u001b[0m\u001b[0m\n\u001b[0m\u001b[1;32m    330\u001b[0m \u001b[0;34m\u001b[0m\u001b[0m\n\u001b[1;32m    331\u001b[0m     \u001b[0;32mreturn\u001b[0m \u001b[0mret\u001b[0m\u001b[0;34m\u001b[0m\u001b[0;34m\u001b[0m\u001b[0m\n",
      "\u001b[0;32m~/opt/anaconda3/lib/python3.9/site-packages/scipy/optimize/_differentialevolution.py\u001b[0m in \u001b[0;36msolve\u001b[0;34m(self)\u001b[0m\n\u001b[1;32m    850\u001b[0m             \u001b[0;31m# evolve the population by a generation\u001b[0m\u001b[0;34m\u001b[0m\u001b[0;34m\u001b[0m\u001b[0m\n\u001b[1;32m    851\u001b[0m             \u001b[0;32mtry\u001b[0m\u001b[0;34m:\u001b[0m\u001b[0;34m\u001b[0m\u001b[0;34m\u001b[0m\u001b[0m\n\u001b[0;32m--> 852\u001b[0;31m                 \u001b[0mnext\u001b[0m\u001b[0;34m(\u001b[0m\u001b[0mself\u001b[0m\u001b[0;34m)\u001b[0m\u001b[0;34m\u001b[0m\u001b[0;34m\u001b[0m\u001b[0m\n\u001b[0m\u001b[1;32m    853\u001b[0m             \u001b[0;32mexcept\u001b[0m \u001b[0mStopIteration\u001b[0m\u001b[0;34m:\u001b[0m\u001b[0;34m\u001b[0m\u001b[0;34m\u001b[0m\u001b[0m\n\u001b[1;32m    854\u001b[0m                 \u001b[0mwarning_flag\u001b[0m \u001b[0;34m=\u001b[0m \u001b[0;32mTrue\u001b[0m\u001b[0;34m\u001b[0m\u001b[0;34m\u001b[0m\u001b[0m\n",
      "\u001b[0;32m~/opt/anaconda3/lib/python3.9/site-packages/scipy/optimize/_differentialevolution.py\u001b[0m in \u001b[0;36m__next__\u001b[0;34m(self)\u001b[0m\n\u001b[1;32m   1200\u001b[0m \u001b[0;34m\u001b[0m\u001b[0m\n\u001b[1;32m   1201\u001b[0m             \u001b[0;31m# only calculate for feasible entries\u001b[0m\u001b[0;34m\u001b[0m\u001b[0;34m\u001b[0m\u001b[0m\n\u001b[0;32m-> 1202\u001b[0;31m             trial_energies[feasible] = self._calculate_population_energies(\n\u001b[0m\u001b[1;32m   1203\u001b[0m                 trial_pop[feasible])\n\u001b[1;32m   1204\u001b[0m \u001b[0;34m\u001b[0m\u001b[0m\n",
      "\u001b[0;32m~/opt/anaconda3/lib/python3.9/site-packages/scipy/optimize/_differentialevolution.py\u001b[0m in \u001b[0;36m_calculate_population_energies\u001b[0;34m(self, population)\u001b[0m\n\u001b[1;32m    964\u001b[0m         \u001b[0mparameters_pop\u001b[0m \u001b[0;34m=\u001b[0m \u001b[0mself\u001b[0m\u001b[0;34m.\u001b[0m\u001b[0m_scale_parameters\u001b[0m\u001b[0;34m(\u001b[0m\u001b[0mpopulation\u001b[0m\u001b[0;34m)\u001b[0m\u001b[0;34m\u001b[0m\u001b[0;34m\u001b[0m\u001b[0m\n\u001b[1;32m    965\u001b[0m         \u001b[0;32mtry\u001b[0m\u001b[0;34m:\u001b[0m\u001b[0;34m\u001b[0m\u001b[0;34m\u001b[0m\u001b[0m\n\u001b[0;32m--> 966\u001b[0;31m             calc_energies = list(self._mapwrapper(self.func,\n\u001b[0m\u001b[1;32m    967\u001b[0m                                                   parameters_pop[0:nfevs]))\n\u001b[1;32m    968\u001b[0m             \u001b[0menergies\u001b[0m\u001b[0;34m[\u001b[0m\u001b[0;36m0\u001b[0m\u001b[0;34m:\u001b[0m\u001b[0mnfevs\u001b[0m\u001b[0;34m]\u001b[0m \u001b[0;34m=\u001b[0m \u001b[0mnp\u001b[0m\u001b[0;34m.\u001b[0m\u001b[0msqueeze\u001b[0m\u001b[0;34m(\u001b[0m\u001b[0mcalc_energies\u001b[0m\u001b[0;34m)\u001b[0m\u001b[0;34m\u001b[0m\u001b[0;34m\u001b[0m\u001b[0m\n",
      "\u001b[0;32m~/opt/anaconda3/lib/python3.9/site-packages/scipy/_lib/_util.py\u001b[0m in \u001b[0;36m__call__\u001b[0;34m(self, func, iterable)\u001b[0m\n\u001b[1;32m    469\u001b[0m         \u001b[0;31m# only accept one iterable because that's all Pool.map accepts\u001b[0m\u001b[0;34m\u001b[0m\u001b[0;34m\u001b[0m\u001b[0m\n\u001b[1;32m    470\u001b[0m         \u001b[0;32mtry\u001b[0m\u001b[0;34m:\u001b[0m\u001b[0;34m\u001b[0m\u001b[0;34m\u001b[0m\u001b[0m\n\u001b[0;32m--> 471\u001b[0;31m             \u001b[0;32mreturn\u001b[0m \u001b[0mself\u001b[0m\u001b[0;34m.\u001b[0m\u001b[0m_mapfunc\u001b[0m\u001b[0;34m(\u001b[0m\u001b[0mfunc\u001b[0m\u001b[0;34m,\u001b[0m \u001b[0miterable\u001b[0m\u001b[0;34m)\u001b[0m\u001b[0;34m\u001b[0m\u001b[0;34m\u001b[0m\u001b[0m\n\u001b[0m\u001b[1;32m    472\u001b[0m         \u001b[0;32mexcept\u001b[0m \u001b[0mTypeError\u001b[0m \u001b[0;32mas\u001b[0m \u001b[0me\u001b[0m\u001b[0;34m:\u001b[0m\u001b[0;34m\u001b[0m\u001b[0;34m\u001b[0m\u001b[0m\n\u001b[1;32m    473\u001b[0m             \u001b[0;31m# wrong number of arguments\u001b[0m\u001b[0;34m\u001b[0m\u001b[0;34m\u001b[0m\u001b[0m\n",
      "\u001b[0;32m~/opt/anaconda3/lib/python3.9/multiprocessing/pool.py\u001b[0m in \u001b[0;36mmap\u001b[0;34m(self, func, iterable, chunksize)\u001b[0m\n\u001b[1;32m    362\u001b[0m         \u001b[0;32min\u001b[0m \u001b[0ma\u001b[0m \u001b[0mlist\u001b[0m \u001b[0mthat\u001b[0m \u001b[0;32mis\u001b[0m \u001b[0mreturned\u001b[0m\u001b[0;34m.\u001b[0m\u001b[0;34m\u001b[0m\u001b[0;34m\u001b[0m\u001b[0m\n\u001b[1;32m    363\u001b[0m         '''\n\u001b[0;32m--> 364\u001b[0;31m         \u001b[0;32mreturn\u001b[0m \u001b[0mself\u001b[0m\u001b[0;34m.\u001b[0m\u001b[0m_map_async\u001b[0m\u001b[0;34m(\u001b[0m\u001b[0mfunc\u001b[0m\u001b[0;34m,\u001b[0m \u001b[0miterable\u001b[0m\u001b[0;34m,\u001b[0m \u001b[0mmapstar\u001b[0m\u001b[0;34m,\u001b[0m \u001b[0mchunksize\u001b[0m\u001b[0;34m)\u001b[0m\u001b[0;34m.\u001b[0m\u001b[0mget\u001b[0m\u001b[0;34m(\u001b[0m\u001b[0;34m)\u001b[0m\u001b[0;34m\u001b[0m\u001b[0;34m\u001b[0m\u001b[0m\n\u001b[0m\u001b[1;32m    365\u001b[0m \u001b[0;34m\u001b[0m\u001b[0m\n\u001b[1;32m    366\u001b[0m     \u001b[0;32mdef\u001b[0m \u001b[0mstarmap\u001b[0m\u001b[0;34m(\u001b[0m\u001b[0mself\u001b[0m\u001b[0;34m,\u001b[0m \u001b[0mfunc\u001b[0m\u001b[0;34m,\u001b[0m \u001b[0miterable\u001b[0m\u001b[0;34m,\u001b[0m \u001b[0mchunksize\u001b[0m\u001b[0;34m=\u001b[0m\u001b[0;32mNone\u001b[0m\u001b[0;34m)\u001b[0m\u001b[0;34m:\u001b[0m\u001b[0;34m\u001b[0m\u001b[0;34m\u001b[0m\u001b[0m\n",
      "\u001b[0;32m~/opt/anaconda3/lib/python3.9/multiprocessing/pool.py\u001b[0m in \u001b[0;36mget\u001b[0;34m(self, timeout)\u001b[0m\n\u001b[1;32m    763\u001b[0m \u001b[0;34m\u001b[0m\u001b[0m\n\u001b[1;32m    764\u001b[0m     \u001b[0;32mdef\u001b[0m \u001b[0mget\u001b[0m\u001b[0;34m(\u001b[0m\u001b[0mself\u001b[0m\u001b[0;34m,\u001b[0m \u001b[0mtimeout\u001b[0m\u001b[0;34m=\u001b[0m\u001b[0;32mNone\u001b[0m\u001b[0;34m)\u001b[0m\u001b[0;34m:\u001b[0m\u001b[0;34m\u001b[0m\u001b[0;34m\u001b[0m\u001b[0m\n\u001b[0;32m--> 765\u001b[0;31m         \u001b[0mself\u001b[0m\u001b[0;34m.\u001b[0m\u001b[0mwait\u001b[0m\u001b[0;34m(\u001b[0m\u001b[0mtimeout\u001b[0m\u001b[0;34m)\u001b[0m\u001b[0;34m\u001b[0m\u001b[0;34m\u001b[0m\u001b[0m\n\u001b[0m\u001b[1;32m    766\u001b[0m         \u001b[0;32mif\u001b[0m \u001b[0;32mnot\u001b[0m \u001b[0mself\u001b[0m\u001b[0;34m.\u001b[0m\u001b[0mready\u001b[0m\u001b[0;34m(\u001b[0m\u001b[0;34m)\u001b[0m\u001b[0;34m:\u001b[0m\u001b[0;34m\u001b[0m\u001b[0;34m\u001b[0m\u001b[0m\n\u001b[1;32m    767\u001b[0m             \u001b[0;32mraise\u001b[0m \u001b[0mTimeoutError\u001b[0m\u001b[0;34m\u001b[0m\u001b[0;34m\u001b[0m\u001b[0m\n",
      "\u001b[0;32m~/opt/anaconda3/lib/python3.9/multiprocessing/pool.py\u001b[0m in \u001b[0;36mwait\u001b[0;34m(self, timeout)\u001b[0m\n\u001b[1;32m    760\u001b[0m \u001b[0;34m\u001b[0m\u001b[0m\n\u001b[1;32m    761\u001b[0m     \u001b[0;32mdef\u001b[0m \u001b[0mwait\u001b[0m\u001b[0;34m(\u001b[0m\u001b[0mself\u001b[0m\u001b[0;34m,\u001b[0m \u001b[0mtimeout\u001b[0m\u001b[0;34m=\u001b[0m\u001b[0;32mNone\u001b[0m\u001b[0;34m)\u001b[0m\u001b[0;34m:\u001b[0m\u001b[0;34m\u001b[0m\u001b[0;34m\u001b[0m\u001b[0m\n\u001b[0;32m--> 762\u001b[0;31m         \u001b[0mself\u001b[0m\u001b[0;34m.\u001b[0m\u001b[0m_event\u001b[0m\u001b[0;34m.\u001b[0m\u001b[0mwait\u001b[0m\u001b[0;34m(\u001b[0m\u001b[0mtimeout\u001b[0m\u001b[0;34m)\u001b[0m\u001b[0;34m\u001b[0m\u001b[0;34m\u001b[0m\u001b[0m\n\u001b[0m\u001b[1;32m    763\u001b[0m \u001b[0;34m\u001b[0m\u001b[0m\n\u001b[1;32m    764\u001b[0m     \u001b[0;32mdef\u001b[0m \u001b[0mget\u001b[0m\u001b[0;34m(\u001b[0m\u001b[0mself\u001b[0m\u001b[0;34m,\u001b[0m \u001b[0mtimeout\u001b[0m\u001b[0;34m=\u001b[0m\u001b[0;32mNone\u001b[0m\u001b[0;34m)\u001b[0m\u001b[0;34m:\u001b[0m\u001b[0;34m\u001b[0m\u001b[0;34m\u001b[0m\u001b[0m\n",
      "\u001b[0;32m~/opt/anaconda3/lib/python3.9/threading.py\u001b[0m in \u001b[0;36mwait\u001b[0;34m(self, timeout)\u001b[0m\n\u001b[1;32m    572\u001b[0m             \u001b[0msignaled\u001b[0m \u001b[0;34m=\u001b[0m \u001b[0mself\u001b[0m\u001b[0;34m.\u001b[0m\u001b[0m_flag\u001b[0m\u001b[0;34m\u001b[0m\u001b[0;34m\u001b[0m\u001b[0m\n\u001b[1;32m    573\u001b[0m             \u001b[0;32mif\u001b[0m \u001b[0;32mnot\u001b[0m \u001b[0msignaled\u001b[0m\u001b[0;34m:\u001b[0m\u001b[0;34m\u001b[0m\u001b[0;34m\u001b[0m\u001b[0m\n\u001b[0;32m--> 574\u001b[0;31m                 \u001b[0msignaled\u001b[0m \u001b[0;34m=\u001b[0m \u001b[0mself\u001b[0m\u001b[0;34m.\u001b[0m\u001b[0m_cond\u001b[0m\u001b[0;34m.\u001b[0m\u001b[0mwait\u001b[0m\u001b[0;34m(\u001b[0m\u001b[0mtimeout\u001b[0m\u001b[0;34m)\u001b[0m\u001b[0;34m\u001b[0m\u001b[0;34m\u001b[0m\u001b[0m\n\u001b[0m\u001b[1;32m    575\u001b[0m             \u001b[0;32mreturn\u001b[0m \u001b[0msignaled\u001b[0m\u001b[0;34m\u001b[0m\u001b[0;34m\u001b[0m\u001b[0m\n\u001b[1;32m    576\u001b[0m \u001b[0;34m\u001b[0m\u001b[0m\n",
      "\u001b[0;32m~/opt/anaconda3/lib/python3.9/threading.py\u001b[0m in \u001b[0;36mwait\u001b[0;34m(self, timeout)\u001b[0m\n\u001b[1;32m    310\u001b[0m         \u001b[0;32mtry\u001b[0m\u001b[0;34m:\u001b[0m    \u001b[0;31m# restore state no matter what (e.g., KeyboardInterrupt)\u001b[0m\u001b[0;34m\u001b[0m\u001b[0;34m\u001b[0m\u001b[0m\n\u001b[1;32m    311\u001b[0m             \u001b[0;32mif\u001b[0m \u001b[0mtimeout\u001b[0m \u001b[0;32mis\u001b[0m \u001b[0;32mNone\u001b[0m\u001b[0;34m:\u001b[0m\u001b[0;34m\u001b[0m\u001b[0;34m\u001b[0m\u001b[0m\n\u001b[0;32m--> 312\u001b[0;31m                 \u001b[0mwaiter\u001b[0m\u001b[0;34m.\u001b[0m\u001b[0macquire\u001b[0m\u001b[0;34m(\u001b[0m\u001b[0;34m)\u001b[0m\u001b[0;34m\u001b[0m\u001b[0;34m\u001b[0m\u001b[0m\n\u001b[0m\u001b[1;32m    313\u001b[0m                 \u001b[0mgotit\u001b[0m \u001b[0;34m=\u001b[0m \u001b[0;32mTrue\u001b[0m\u001b[0;34m\u001b[0m\u001b[0;34m\u001b[0m\u001b[0m\n\u001b[1;32m    314\u001b[0m             \u001b[0;32melse\u001b[0m\u001b[0;34m:\u001b[0m\u001b[0;34m\u001b[0m\u001b[0;34m\u001b[0m\u001b[0m\n",
      "\u001b[0;31mKeyboardInterrupt\u001b[0m: "
     ]
    },
    {
     "data": {
      "image/png": "[encoded data removed]",
      "text/plain": [
       "<Figure size 1200x600 with 2 Axes>"
      ]
     },
     "metadata": {
      "needs_background": "light"
     },
     "output_type": "display_data"
    }
   ],
   "source": [
    "skip = 0\n",
    "if skip == 0:\n",
    "    #--- set initial plot settings\n",
    "    fig, (axis1, axis2) = plt.subplots(nrows=1,ncols=2,figsize=(12,6), dpi = 100)\n",
    "\n",
    "    thouless.plot_with_gap_ratio(axis1=axis1, axis2=axis2, use_scaling_ansatz=1, scaling_ansatz='RG', crit_fun='free')\n",
    "\n",
    "    x = np.array(range(-10000, 10000)) / 100.\n",
    "    sclabel = cf.plot_settings.settings['vs']\n",
    "    if cf.plot_settings.settings['vs_idx'] == 2:\n",
    "        sclabel = hfun.var_name\n",
    "    n = 2.0; axis1.plot(cf.plot_settings.rescale(x, 'x'), (5e-1 / (x)**n), ls='--', color='black', label=r\"${%s}^{-%.2f}$\"%(sclabel, n))\n",
    "    #n = 1.5; axis1.plot(cf.plot_settings.rescale(x, 'x'), (1e1 / (x)**n), ls='--', color='red', label=r\"${%s}^{-%.2f}$\"%(sclabel, n))\n",
    "    #n = 2.5; axis1.plot(cf.plot_settings.rescale(x, 'x'), (5e4 / (x)**n), ls='--', color='blue', label=r\"${%s}^{-%.2f}$\"%(sclabel, n))\n",
    "    #a=4.0;  axis1.plot(cf.plot_settings.rescale(x, 'x'), 6e5*np.exp(a * (x - cf.parameter_critical)**1 + a), ls='--', color='black', label=r\"$exp(%.2f\\cdot(%s-%s_c))$\"%(a,sclabel,sclabel))\n",
    "    #a=4.5;  axis1.plot(cf.plot_settings.rescale(x, 'x'), 1e2*np.exp(a / x**1 - a), ls='--', color='black', label=r\"$exp(-%.2f \\cdot %s)$\"%(a,sclabel))\n",
    "    #axis1.plot(cf.plot_settings.rescale(x, 'x'), 1.2e1*np.exp(0.6 / x**2 - 1), ls='--', color='black', label=r\"$exp(-0.6 /\\ {%s}^2)$\"%sclabel)\n",
    "\n",
    "    #axis1.set_xlim([cf.plot_settings.rescale(1e-8, 'x'), cf.plot_settings.rescale(1.5, 'x')])\n",
    "    \n",
    "    #axis1.set_xlim(1e-1, 3.5e0)\n",
    "    axis1.legend()\n",
    "    axis2.axvline(x=0.0, color='k', linestyle='--')\n",
    "    #axis2.set_xlim(0, 1e2)\n",
    "    #axis2.set_xscale('linear')\n",
    "\n",
    "    def heisenberg_time(system_size, dim = None):\n",
    "        if dim is None:\n",
    "            dim = 2**system_size\n",
    "        chi = 0.341345\n",
    "        return (chi * dim) / ( system_size**(0.5)  * np.sqrt(cf.J * cf.J + cf.h * cf.h + cf.g * cf.g + (cf.w * cf.w + cf.g0 * cf.g0 + cf.J0 * cf.J0) / 3.) )\n",
    "    #x = np.array(range(10, 19)).astype(np.float)\n",
    "    #sclabel = new_settings.settings['vs']\n",
    "    #n = 2;  axis3.plot(cf.plot_settings.rescale(x, 'x'), (8e0* (x/10.)**(n)), ls='--', color='red', label=r\"${%s}^{%d}$\"%(sclabel, n))\n",
    "    #n = 5;  axis3.plot(cf.plot_settings.rescale(x, 'x'), (1e1* (x/10.)**(n)), ls='--', color='black', label=r\"${%s}^{%d}$\"%(sclabel, n))\n",
    "    \n",
    "\n",
    "    print(1.0 / 0.0)"
   ]
  },
  {
   "cell_type": "markdown",
   "id": "84fd6d49",
   "metadata": {},
   "source": [
    "## COST-FUN ANALYSIS"
   ]
  },
  {
   "cell_type": "code",
   "execution_count": null,
   "id": "1288eea8",
   "metadata": {},
   "outputs": [
    {
     "name": "stdout",
     "output_type": "stream",
     "text": [
      "[10 12 14 16 18]\n",
      "classic:  1.3046510026548812\n",
      "-2229.4748755262626 3996.311682283792 0.7702731549799999 337709.203888 2 0\n",
      "[10 12 14 16 18]\n",
      "FGR:  3.3661545641645616\n",
      "-58.462272239981054 359.56832047839913 0.7702731549799999 337709.203888 2 0\n",
      "[10 12 14 16 18]\n"
     ]
    },
    {
     "name": "stderr",
     "output_type": "stream",
     "text": [
      "Process SpawnPoolWorker-318:\n",
      "Process SpawnPoolWorker-320:\n",
      "Process SpawnPoolWorker-315:\n",
      "Process SpawnPoolWorker-316:\n",
      "Process SpawnPoolWorker-313:\n",
      "Process SpawnPoolWorker-311:\n",
      "Process SpawnPoolWorker-314:\n",
      "Process SpawnPoolWorker-317:\n",
      "Traceback (most recent call last):\n",
      "  File \"/Users/rafal.swietek/opt/anaconda3/lib/python3.9/multiprocessing/process.py\", line 315, in _bootstrap\n",
      "    self.run()\n",
      "  File \"/Users/rafal.swietek/opt/anaconda3/lib/python3.9/multiprocessing/process.py\", line 108, in run\n",
      "    self._target(*self._args, **self._kwargs)\n",
      "  File \"/Users/rafal.swietek/opt/anaconda3/lib/python3.9/multiprocessing/pool.py\", line 114, in worker\n",
      "    task = get()\n",
      "  File \"/Users/rafal.swietek/opt/anaconda3/lib/python3.9/multiprocessing/queues.py\", line 365, in get\n",
      "    with self._rlock:\n",
      "  File \"/Users/rafal.swietek/opt/anaconda3/lib/python3.9/multiprocessing/synchronize.py\", line 95, in __enter__\n",
      "    return self._semlock.__enter__()\n",
      "KeyboardInterrupt\n",
      "Process SpawnPoolWorker-312:\n",
      "Process SpawnPoolWorker-319:\n",
      "Traceback (most recent call last):\n",
      "Traceback (most recent call last):\n",
      "  File \"/Users/rafal.swietek/opt/anaconda3/lib/python3.9/multiprocessing/process.py\", line 315, in _bootstrap\n",
      "    self.run()\n",
      "  File \"/Users/rafal.swietek/opt/anaconda3/lib/python3.9/multiprocessing/process.py\", line 108, in run\n",
      "    self._target(*self._args, **self._kwargs)\n",
      "  File \"/Users/rafal.swietek/opt/anaconda3/lib/python3.9/multiprocessing/pool.py\", line 125, in worker\n",
      "    result = (True, func(*args, **kwds))\n",
      "  File \"/Users/rafal.swietek/opt/anaconda3/lib/python3.9/multiprocessing/pool.py\", line 48, in mapstar\n",
      "    return list(map(*args))\n",
      "  File \"/Users/rafal.swietek/opt/anaconda3/lib/python3.9/site-packages/scipy/optimize/_differentialevolution.py\", line 1346, in __call__\n",
      "    return self.f(x, *self.args)\n",
      "  File \"/Users/rafal.swietek/Projects/Transverse_Ising_ETH/IsignTransverse_ETH/Python/costfun/costfun.py\", line 99, in minimization_function\n",
      "    xvalue = rescale_fun(\n",
      "  File \"/Users/rafal.swietek/opt/anaconda3/lib/python3.9/multiprocessing/process.py\", line 315, in _bootstrap\n",
      "    self.run()\n",
      "  File \"/Users/rafal.swietek/opt/anaconda3/lib/python3.9/multiprocessing/process.py\", line 108, in run\n",
      "    self._target(*self._args, **self._kwargs)\n",
      "  File \"/Users/rafal.swietek/opt/anaconda3/lib/python3.9/multiprocessing/pool.py\", line 125, in worker\n",
      "    result = (True, func(*args, **kwds))\n",
      "KeyboardInterrupt\n",
      "  File \"/Users/rafal.swietek/opt/anaconda3/lib/python3.9/multiprocessing/pool.py\", line 48, in mapstar\n",
      "    return list(map(*args))\n",
      "  File \"/Users/rafal.swietek/opt/anaconda3/lib/python3.9/site-packages/scipy/optimize/_differentialevolution.py\", line 1346, in __call__\n",
      "    return self.f(x, *self.args)\n",
      "  File \"/Users/rafal.swietek/Projects/Transverse_Ising_ETH/IsignTransverse_ETH/Python/costfun/costfun.py\", line 111, in minimization_function\n",
      "    cost_fun = calculate_cost_function(fulldata)\n",
      "  File \"/Users/rafal.swietek/Projects/Transverse_Ising_ETH/IsignTransverse_ETH/Python/costfun/costfun.py\", line 58, in calculate_cost_function\n",
      "    cost_func = cost_func + abs(data[i+1] - data[i])\n",
      "KeyboardInterrupt\n",
      "Traceback (most recent call last):\n",
      "  File \"/Users/rafal.swietek/opt/anaconda3/lib/python3.9/multiprocessing/process.py\", line 315, in _bootstrap\n",
      "    self.run()\n",
      "  File \"/Users/rafal.swietek/opt/anaconda3/lib/python3.9/multiprocessing/process.py\", line 108, in run\n",
      "    self._target(*self._args, **self._kwargs)\n",
      "  File \"/Users/rafal.swietek/opt/anaconda3/lib/python3.9/multiprocessing/pool.py\", line 125, in worker\n",
      "    result = (True, func(*args, **kwds))\n",
      "  File \"/Users/rafal.swietek/opt/anaconda3/lib/python3.9/multiprocessing/pool.py\", line 48, in mapstar\n",
      "    return list(map(*args))\n",
      "  File \"/Users/rafal.swietek/opt/anaconda3/lib/python3.9/site-packages/scipy/optimize/_differentialevolution.py\", line 1346, in __call__\n",
      "    return self.f(x, *self.args)\n",
      "  File \"/Users/rafal.swietek/Projects/Transverse_Ising_ETH/IsignTransverse_ETH/Python/costfun/costfun.py\", line 99, in minimization_function\n",
      "    xvalue = rescale_fun(\n",
      "KeyboardInterrupt\n",
      "Traceback (most recent call last):\n",
      "Traceback (most recent call last):\n",
      "Traceback (most recent call last):\n",
      "  File \"/Users/rafal.swietek/opt/anaconda3/lib/python3.9/multiprocessing/process.py\", line 315, in _bootstrap\n",
      "    self.run()\n",
      "  File \"/Users/rafal.swietek/opt/anaconda3/lib/python3.9/multiprocessing/process.py\", line 108, in run\n",
      "    self._target(*self._args, **self._kwargs)\n",
      "  File \"/Users/rafal.swietek/opt/anaconda3/lib/python3.9/multiprocessing/process.py\", line 315, in _bootstrap\n",
      "    self.run()\n",
      "  File \"/Users/rafal.swietek/opt/anaconda3/lib/python3.9/multiprocessing/pool.py\", line 125, in worker\n",
      "    result = (True, func(*args, **kwds))\n",
      "  File \"/Users/rafal.swietek/opt/anaconda3/lib/python3.9/multiprocessing/process.py\", line 108, in run\n",
      "    self._target(*self._args, **self._kwargs)\n",
      "  File \"/Users/rafal.swietek/opt/anaconda3/lib/python3.9/multiprocessing/pool.py\", line 48, in mapstar\n",
      "    return list(map(*args))\n",
      "  File \"/Users/rafal.swietek/opt/anaconda3/lib/python3.9/multiprocessing/pool.py\", line 125, in worker\n",
      "    result = (True, func(*args, **kwds))\n",
      "  File \"/Users/rafal.swietek/opt/anaconda3/lib/python3.9/site-packages/scipy/optimize/_differentialevolution.py\", line 1346, in __call__\n",
      "    return self.f(x, *self.args)\n",
      "  File \"/Users/rafal.swietek/opt/anaconda3/lib/python3.9/multiprocessing/pool.py\", line 48, in mapstar\n",
      "    return list(map(*args))\n",
      "  File \"/Users/rafal.swietek/Projects/Transverse_Ising_ETH/IsignTransverse_ETH/Python/costfun/costfun.py\", line 99, in minimization_function\n",
      "    xvalue = rescale_fun(\n",
      "  File \"/Users/rafal.swietek/opt/anaconda3/lib/python3.9/site-packages/scipy/optimize/_differentialevolution.py\", line 1346, in __call__\n",
      "    return self.f(x, *self.args)\n",
      "  File \"/Users/rafal.swietek/Projects/Transverse_Ising_ETH/IsignTransverse_ETH/Python/costfun/scaling_ansatz.py\", line 28, in _rescale_RG\n",
      "    return np.sign(x - crit_fun(L, *args)) * abs(x - crit_fun(L, *args))**nu * L\n",
      "  File \"/Users/rafal.swietek/Projects/Transverse_Ising_ETH/IsignTransverse_ETH/Python/costfun/costfun.py\", line 99, in minimization_function\n",
      "    xvalue = rescale_fun(\n",
      "  File \"/Users/rafal.swietek/Projects/Transverse_Ising_ETH/IsignTransverse_ETH/Python/costfun/critical_func.py\", line 15, in _crit_free\n",
      "    crit = np.array(args)\n",
      "  File \"/Users/rafal.swietek/Projects/Transverse_Ising_ETH/IsignTransverse_ETH/Python/costfun/scaling_ansatz.py\", line 28, in _rescale_RG\n",
      "    return np.sign(x - crit_fun(L, *args)) * abs(x - crit_fun(L, *args))**nu * L\n",
      "  File \"/Users/rafal.swietek/Projects/Transverse_Ising_ETH/IsignTransverse_ETH/Python/costfun/critical_func.py\", line 9, in _crit_free\n",
      "    def _crit_free(size, *args):\n",
      "  File \"/Users/rafal.swietek/opt/anaconda3/lib/python3.9/multiprocessing/process.py\", line 315, in _bootstrap\n",
      "    self.run()\n",
      "KeyboardInterrupt\n",
      "  File \"/Users/rafal.swietek/opt/anaconda3/lib/python3.9/multiprocessing/process.py\", line 108, in run\n",
      "    self._target(*self._args, **self._kwargs)\n",
      "  File \"/Users/rafal.swietek/opt/anaconda3/lib/python3.9/multiprocessing/pool.py\", line 125, in worker\n",
      "    result = (True, func(*args, **kwds))\n",
      "  File \"/Users/rafal.swietek/opt/anaconda3/lib/python3.9/multiprocessing/pool.py\", line 48, in mapstar\n",
      "    return list(map(*args))\n",
      "KeyboardInterrupt\n",
      "  File \"/Users/rafal.swietek/opt/anaconda3/lib/python3.9/site-packages/scipy/optimize/_differentialevolution.py\", line 1346, in __call__\n",
      "    return self.f(x, *self.args)\n",
      "  File \"/Users/rafal.swietek/Projects/Transverse_Ising_ETH/IsignTransverse_ETH/Python/costfun/costfun.py\", line 99, in minimization_function\n",
      "    xvalue = rescale_fun(\n",
      "  File \"/Users/rafal.swietek/Projects/Transverse_Ising_ETH/IsignTransverse_ETH/Python/costfun/scaling_ansatz.py\", line 28, in _rescale_RG\n",
      "    return np.sign(x - crit_fun(L, *args)) * abs(x - crit_fun(L, *args))**nu * L\n",
      "KeyboardInterrupt\n",
      "Traceback (most recent call last):\n",
      "  File \"/Users/rafal.swietek/opt/anaconda3/lib/python3.9/multiprocessing/process.py\", line 315, in _bootstrap\n",
      "    self.run()\n",
      "  File \"/Users/rafal.swietek/opt/anaconda3/lib/python3.9/multiprocessing/process.py\", line 108, in run\n",
      "    self._target(*self._args, **self._kwargs)\n",
      "  File \"/Users/rafal.swietek/opt/anaconda3/lib/python3.9/multiprocessing/pool.py\", line 125, in worker\n",
      "    result = (True, func(*args, **kwds))\n",
      "  File \"/Users/rafal.swietek/opt/anaconda3/lib/python3.9/multiprocessing/pool.py\", line 48, in mapstar\n",
      "    return list(map(*args))\n",
      "  File \"/Users/rafal.swietek/opt/anaconda3/lib/python3.9/site-packages/scipy/optimize/_differentialevolution.py\", line 1346, in __call__\n",
      "    return self.f(x, *self.args)\n",
      "  File \"/Users/rafal.swietek/Projects/Transverse_Ising_ETH/IsignTransverse_ETH/Python/costfun/costfun.py\", line 99, in minimization_function\n",
      "    xvalue = rescale_fun(\n",
      "  File \"/Users/rafal.swietek/Projects/Transverse_Ising_ETH/IsignTransverse_ETH/Python/costfun/scaling_ansatz.py\", line 28, in _rescale_RG\n",
      "    return np.sign(x - crit_fun(L, *args)) * abs(x - crit_fun(L, *args))**nu * L\n",
      "  File \"/Users/rafal.swietek/Projects/Transverse_Ising_ETH/IsignTransverse_ETH/Python/costfun/critical_func.py\", line 16, in _crit_free\n",
      "    idx = int( (size - 12) / 2 if hamiltonian == 1 else size - 11 )\n",
      "KeyboardInterrupt\n",
      "Traceback (most recent call last):\n",
      "  File \"/Users/rafal.swietek/opt/anaconda3/lib/python3.9/multiprocessing/process.py\", line 315, in _bootstrap\n",
      "    self.run()\n",
      "  File \"/Users/rafal.swietek/opt/anaconda3/lib/python3.9/multiprocessing/process.py\", line 108, in run\n",
      "    self._target(*self._args, **self._kwargs)\n",
      "  File \"/Users/rafal.swietek/opt/anaconda3/lib/python3.9/multiprocessing/pool.py\", line 125, in worker\n",
      "    result = (True, func(*args, **kwds))\n",
      "  File \"/Users/rafal.swietek/opt/anaconda3/lib/python3.9/multiprocessing/pool.py\", line 48, in mapstar\n",
      "    return list(map(*args))\n",
      "  File \"/Users/rafal.swietek/opt/anaconda3/lib/python3.9/site-packages/scipy/optimize/_differentialevolution.py\", line 1346, in __call__\n",
      "    return self.f(x, *self.args)\n",
      "  File \"/Users/rafal.swietek/Projects/Transverse_Ising_ETH/IsignTransverse_ETH/Python/costfun/costfun.py\", line 99, in minimization_function\n",
      "    xvalue = rescale_fun(\n",
      "  File \"/Users/rafal.swietek/Projects/Transverse_Ising_ETH/IsignTransverse_ETH/Python/costfun/scaling_ansatz.py\", line 28, in _rescale_RG\n",
      "    return np.sign(x - crit_fun(L, *args)) * abs(x - crit_fun(L, *args))**nu * L\n",
      "  File \"/Users/rafal.swietek/Projects/Transverse_Ising_ETH/IsignTransverse_ETH/Python/costfun/critical_func.py\", line 15, in _crit_free\n",
      "    crit = np.array(args)\n",
      "KeyboardInterrupt\n",
      "Traceback (most recent call last):\n",
      "  File \"/Users/rafal.swietek/opt/anaconda3/lib/python3.9/multiprocessing/process.py\", line 315, in _bootstrap\n",
      "    self.run()\n",
      "  File \"/Users/rafal.swietek/opt/anaconda3/lib/python3.9/multiprocessing/process.py\", line 108, in run\n",
      "    self._target(*self._args, **self._kwargs)\n",
      "  File \"/Users/rafal.swietek/opt/anaconda3/lib/python3.9/multiprocessing/pool.py\", line 125, in worker\n",
      "    result = (True, func(*args, **kwds))\n",
      "  File \"/Users/rafal.swietek/opt/anaconda3/lib/python3.9/multiprocessing/pool.py\", line 48, in mapstar\n",
      "    return list(map(*args))\n",
      "  File \"/Users/rafal.swietek/opt/anaconda3/lib/python3.9/site-packages/scipy/optimize/_differentialevolution.py\", line 1346, in __call__\n",
      "    return self.f(x, *self.args)\n",
      "  File \"/Users/rafal.swietek/Projects/Transverse_Ising_ETH/IsignTransverse_ETH/Python/costfun/costfun.py\", line 108, in minimization_function\n",
      "    permut = np.argsort(xdata)\n",
      "  File \"<__array_function__ internals>\", line 5, in argsort\n",
      "  File \"/Users/rafal.swietek/opt/anaconda3/lib/python3.9/site-packages/numpy/core/fromnumeric.py\", line 1112, in argsort\n",
      "    return _wrapfunc(a, 'argsort', axis=axis, kind=kind, order=order)\n",
      "  File \"/Users/rafal.swietek/opt/anaconda3/lib/python3.9/site-packages/numpy/core/fromnumeric.py\", line 55, in _wrapfunc\n",
      "    return _wrapit(obj, method, *args, **kwds)\n",
      "  File \"/Users/rafal.swietek/opt/anaconda3/lib/python3.9/site-packages/numpy/core/fromnumeric.py\", line 44, in _wrapit\n",
      "    result = getattr(asarray(obj), method)(*args, **kwds)\n",
      "KeyboardInterrupt\n"
     ]
    }
   ],
   "source": [
    "#print(1./0.)\n",
    "\n",
    "fig, ((axis1, axis2), (axis3, axis4), (axis5, axis6), (axis7, axis8)) = plt.subplots(nrows=4,ncols=2)\n",
    "axes = ((axis1, axis2), (axis3, axis4), (axis5, axis6), (axis7, axis8))\n",
    "fig.set_size_inches(18,36)\n",
    "\n",
    "x = np.array(range(-10000, 10000)) / 100.\n",
    "sclabel = cf.plot_settings.settings['vs']\n",
    "if cf.plot_settings.settings['vs_idx'] == 2:\n",
    "    sclabel = hfun.var_name\n",
    "\n",
    "thouless.plot_with_gap_ratio(axis1=axis1, axis2=axis2, use_scaling_ansatz=1, scaling_ansatz='classic', crit_fun='free');  \n",
    "n = 2.0; axis1.plot(cf.plot_settings.rescale(x, 'x'), (1e1 / (x)**n), ls='--', color='black', label=r\"${%s}^{-%.2f}$\"%(sclabel, n))\n",
    "axis1.legend()\n",
    "axis1.set_xlim(1e-2, 1.0e0);  axis2.set_xlim(-40, 30);\n",
    "\n",
    "thouless.plot_with_gap_ratio(axis1=axis3, axis2=axis4, use_scaling_ansatz=1, scaling_ansatz='FGR', crit_fun='free')\n",
    "n = 2.0; axis3.plot(cf.plot_settings.rescale(x, 'x'), (1e1 / (x)**n), ls='--', color='black', label=r\"${%s}^{-%.2f}$\"%(sclabel, n))\n",
    "axis3.legend()\n",
    "axis3.set_xlim(1e-1, 2e0);  axis4.set_xlim(-10, 30);\n",
    "\n",
    "new_settings = cf.plot_settings\n",
    "new_settings.set_scales(xscale = 'linear', yscale = 'log')\n",
    "thouless.plplot_with_gap_ratioot(axis1=axis5, axis2=axis6, use_scaling_ansatz=1, scaling_ansatz='RG', crit_fun='free', new_settings=new_settings.settings)\n",
    "n = 2.0; axis5.plot(cf.plot_settings.rescale(x, 'x'), (1e1 / (x)**n), ls='--', color='black', label=r\"${%s}^{-%.2f}$\"%(sclabel, n))\n",
    "axis5.legend()\n",
    "#axis5.set_xlim(1e-2, 2e0);  axis6.set_xlim(-5, 20);\n",
    "\n",
    "thouless.plot_with_gap_ratio(axis1=axis7, axis2=axis8, use_scaling_ansatz=1, scaling_ansatz='KT', crit_fun='free', new_settings=new_settings.settings)\n",
    "n = 2.0; axis7.plot(cf.plot_settings.rescale(x, 'x'), (1e1 / (x)**n), ls='--', color='black', label=r\"${%s}^{-%.2f}$\"%(sclabel, n))\n",
    "axis7.legend()\n",
    "#axis7.set_xlim(1e-1, 2e0);  axis8.set_xlim(-6, 15);\n",
    "\n",
    "\n",
    "\n",
    "for ax in axes:\n",
    "    ax[1].axvline(x=0.0, color='k', linestyle='--')\n"
   ]
  },
  {
   "cell_type": "code",
   "execution_count": null,
   "id": "57c20e75",
   "metadata": {},
   "outputs": [],
   "source": []
  },
  {
   "cell_type": "code",
   "execution_count": null,
   "id": "19de2f07",
   "metadata": {},
   "outputs": [
    {
     "name": "stdout",
     "output_type": "stream",
     "text": [
      "classic free 0.25318955042527524 [1.63530223 0.34791903 0.31834937 0.29219486 0.2661575 ]\n",
      "classic inv 0.2612117530100506 [1.64878371 0.00493675 0.54883459 0.15544538]\n",
      "FGR free 0.26326908207224164 [3.12210325 0.80615978 0.68596856 0.58751292 0.50214153]\n",
      "FGR inv 0.2597757649397969 [ 3.18853885  0.23628702  0.88881705 -0.37946564]\n",
      "RG free 0.2518226002430126 [0.60684736 0.66948916 0.56673119 0.49155719 0.43064201]\n",
      "RG inv 0.25878161935270017 [ 0.60971739 -0.00488043 -0.07219873  0.13717944]\n",
      "KT free 0.24378659008063663 [0.84312472 0.00933671 0.04061146 0.05665442 0.06330611]\n",
      "KT inv 0.24942008174086006 [ 2.25264001 -0.17775567  0.4039322  -0.09445913]\n"
     ]
    }
   ],
   "source": [
    "#xit.exit()\n",
    "from costfun import costfun as cost\n",
    "importlib.reload(cost)\n",
    "np.set_printoptions(edgeitems=25, linewidth=100000)\n",
    "\n",
    "user_settings = getattr(cf.plot_settings, 'settings')\n",
    "vals, xvals, tau, gap_ratio = thouless.load()\n",
    "num_of_plots = len(tau)\n",
    "\n",
    "def get_cost(scaling_ansatz, crit_fun = 'free'):\n",
    "    params = [0,0,0,0,0,0]\n",
    "    x_max=None\n",
    "    for x in xvals: \n",
    "        for _x_ in x: \n",
    "            if x_max is None or _x_ > x_max: x_max = _x_\n",
    "    x_min = 0 if crit_fun == 'free' else -x_max\n",
    "    bounds = [ (-10.0, 10.0), (x_min, x_max)]\n",
    "    num_of_param = 0\n",
    "    if crit_fun == 'free': \n",
    "        num_of_param = len(vals) - 1\n",
    "    elif crit_fun == 'power_law' or crit_fun == 'inv': \n",
    "        num_of_param = 2;\n",
    "    elif crit_fun == 'const':\n",
    "        num_of_param = 0\n",
    "    else: \n",
    "        num_of_param = 1\n",
    "    for i in range(num_of_param): bounds.append((x_min, x_max))\n",
    "    for r in range(1):\n",
    "        params, cost_fun = cost.cost_func_minization(x=xvals, y=gap_ratio, sizes=vals, \n",
    "                                    scale_func=scaling_ansatz, \n",
    "                                    crit_func=crit_fun,\n",
    "                                    bnds=bounds,\n",
    "                                    population_size=1e2,\n",
    "                                    maxiterarions=1e3, workers=10, realisations=1\n",
    "                                )\n",
    "        #print(r, cost_fun, params)\n",
    "    print(scaling_ansatz, crit_fun, cost_fun, params)\n",
    "    return params\n",
    "\n",
    "ansatz_list = ['classic', 'FGR', 'RG', 'KT']\n",
    "params_free = []\n",
    "params_inv = []\n",
    "for ansatz in ansatz_list:\n",
    "    params_free.append(get_cost(scaling_ansatz=ansatz, crit_fun='free'))\n",
    "    params_inv.append(get_cost(scaling_ansatz=ansatz, crit_fun='inv'))\n",
    "    \n"
   ]
  },
  {
   "cell_type": "code",
   "execution_count": null,
   "id": "8d13bc48",
   "metadata": {},
   "outputs": [
    {
     "name": "stdout",
     "output_type": "stream",
     "text": [
      "[0.34791903 0.31834937 0.29219486 0.2661575 ]\n",
      "[0.00493675 0.54883459 0.15544538]\n",
      "[0.80615978 0.68596856 0.58751292 0.50214153]\n",
      "[ 0.23628702  0.88881705 -0.37946564]\n",
      "[0.66948916 0.56673119 0.49155719 0.43064201]\n",
      "[-0.00488043 -0.07219873  0.13717944]\n",
      "[0.00933671 0.04061146 0.05665442 0.06330611]\n",
      "[-0.17775567  0.4039322  -0.09445913]\n"
     ]
    },
    {
     "data": {
      "text/plain": [
       "(0.0, 2.0)"
      ]
     },
     "execution_count": 15,
     "metadata": {},
     "output_type": "execute_result"
    },
    {
     "data": {
      "image/png": "[encoded data removed]",
      "text/plain": [
       "<Figure size 1000x500 with 2 Axes>"
      ]
     },
     "metadata": {
      "needs_background": "light"
     },
     "output_type": "display_data"
    }
   ],
   "source": [
    "fig, (ax1, ax2)= plt.subplots( nrows=1, ncols=2, figsize=(10,5), dpi = 100)\n",
    "\n",
    "def plot_params(params, color='black', lab=''):\n",
    "    crit_pars = np.array(params[1:])\n",
    "    print(crit_pars)\n",
    "    #for i in range(len(vals)):\n",
    "    ax1.plot(vals, crit_pars, color=color, label=lab, linestyle='--', marker='o')\n",
    "colors = ['black', 'red', 'blue', 'green']\n",
    "def crit(x, crit_pars):\n",
    "    #return crit_pars[0] + crit_pars[1] * x\n",
    "    return crit_pars[0] + 1.0 / ( crit_pars[1] + crit_pars[2] * x)\n",
    "for i in range(0,len(ansatz_list)):\n",
    "    plot_params(params_free[i], colors[i], ansatz_list[i] + ' free')\n",
    "    crit_pars = np.array(params_inv[i][1:])\n",
    "    print(crit_pars)\n",
    "    ax1.plot(vals, crit(vals, crit_pars), color=colors[i], label=ansatz_list[i] + ' inv')\n",
    "ax1.legend()\n",
    "#ax.plot(vals, crit_pars)\n",
    "ax1.set_ylim(0,2)"
   ]
  },
  {
   "cell_type": "code",
   "execution_count": null,
   "id": "e33fe8ed",
   "metadata": {},
   "outputs": [],
   "source": []
  },
  {
   "cell_type": "code",
   "execution_count": null,
   "id": "7edc7bf6",
   "metadata": {},
   "outputs": [],
   "source": []
  },
  {
   "cell_type": "code",
   "execution_count": null,
   "id": "d51eaf76",
   "metadata": {},
   "outputs": [],
   "source": []
  },
  {
   "cell_type": "code",
   "execution_count": null,
   "id": "974f3054",
   "metadata": {},
   "outputs": [],
   "source": []
  },
  {
   "cell_type": "code",
   "execution_count": null,
   "id": "84b1b6c4",
   "metadata": {},
   "outputs": [],
   "source": []
  },
  {
   "cell_type": "markdown",
   "id": "b1da23ba",
   "metadata": {},
   "source": []
  }
 ],
 "metadata": {
  "interpreter": {
   "hash": "8688d0d3f7f3c7fef2fa50de9bafb71246bbae268bd9ddfe6971783cc4db02c1"
  },
  "kernelspec": {
   "display_name": "Python 3.9.7 ('base')",
   "language": "python",
   "name": "python3"
  },
  "language_info": {
   "codemirror_mode": {
    "name": "ipython",
    "version": 3
   },
   "file_extension": ".py",
   "mimetype": "text/x-python",
   "name": "python",
   "nbconvert_exporter": "python",
   "pygments_lexer": "ipython3",
   "version": "3.9.7"
  }
 },
 "nbformat": 4,
 "nbformat_minor": 5
}
